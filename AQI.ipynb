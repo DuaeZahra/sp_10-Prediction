{
  "nbformat": 4,
  "nbformat_minor": 0,
  "metadata": {
    "colab": {
      "provenance": [],
      "collapsed_sections": [
        "Gg4LT1Iaiy6l"
      ],
      "toc_visible": true,
      "authorship_tag": "ABX9TyNlpbSx1t2oO3zxK7G+3zWD",
      "include_colab_link": true
    },
    "kernelspec": {
      "name": "python3",
      "display_name": "Python 3"
    },
    "language_info": {
      "name": "python"
    },
    "widgets": {
      "application/vnd.jupyter.widget-state+json": {
        "84f7556ba9ab44d5b4407a881f19e080": {
          "model_module": "@jupyter-widgets/controls",
          "model_name": "HBoxModel",
          "model_module_version": "1.5.0",
          "state": {
            "_dom_classes": [],
            "_model_module": "@jupyter-widgets/controls",
            "_model_module_version": "1.5.0",
            "_model_name": "HBoxModel",
            "_view_count": null,
            "_view_module": "@jupyter-widgets/controls",
            "_view_module_version": "1.5.0",
            "_view_name": "HBoxView",
            "box_style": "",
            "children": [
              "IPY_MODEL_8845fbbd057a4ea59bd0ea22531808ac",
              "IPY_MODEL_15308b83e3b6477c866280511d67d06a",
              "IPY_MODEL_2492dac6fde0452b9d387a494e5dcc58"
            ],
            "layout": "IPY_MODEL_63c6da9444f349328ab993f5b4eea142"
          }
        },
        "8845fbbd057a4ea59bd0ea22531808ac": {
          "model_module": "@jupyter-widgets/controls",
          "model_name": "HTMLModel",
          "model_module_version": "1.5.0",
          "state": {
            "_dom_classes": [],
            "_model_module": "@jupyter-widgets/controls",
            "_model_module_version": "1.5.0",
            "_model_name": "HTMLModel",
            "_view_count": null,
            "_view_module": "@jupyter-widgets/controls",
            "_view_module_version": "1.5.0",
            "_view_name": "HTMLView",
            "description": "",
            "description_tooltip": null,
            "layout": "IPY_MODEL_8ba7429ba46a49648841c5372b57104c",
            "placeholder": "​",
            "style": "IPY_MODEL_f89cda3db5044a13b6cbdfa3e19b8917",
            "value": "Model export complete: 100%"
          }
        },
        "15308b83e3b6477c866280511d67d06a": {
          "model_module": "@jupyter-widgets/controls",
          "model_name": "FloatProgressModel",
          "model_module_version": "1.5.0",
          "state": {
            "_dom_classes": [],
            "_model_module": "@jupyter-widgets/controls",
            "_model_module_version": "1.5.0",
            "_model_name": "FloatProgressModel",
            "_view_count": null,
            "_view_module": "@jupyter-widgets/controls",
            "_view_module_version": "1.5.0",
            "_view_name": "ProgressView",
            "bar_style": "success",
            "description": "",
            "description_tooltip": null,
            "layout": "IPY_MODEL_0258d9b0edfb4547890eaf254e36db32",
            "max": 6,
            "min": 0,
            "orientation": "horizontal",
            "style": "IPY_MODEL_e5eebc3d0a2a4ba1ba639f418afa69e7",
            "value": 6
          }
        },
        "2492dac6fde0452b9d387a494e5dcc58": {
          "model_module": "@jupyter-widgets/controls",
          "model_name": "HTMLModel",
          "model_module_version": "1.5.0",
          "state": {
            "_dom_classes": [],
            "_model_module": "@jupyter-widgets/controls",
            "_model_module_version": "1.5.0",
            "_model_name": "HTMLModel",
            "_view_count": null,
            "_view_module": "@jupyter-widgets/controls",
            "_view_module_version": "1.5.0",
            "_view_name": "HTMLView",
            "description": "",
            "description_tooltip": null,
            "layout": "IPY_MODEL_dba7be0154f64ebb8c935f9973fd56d4",
            "placeholder": "​",
            "style": "IPY_MODEL_4c63f7bf62b2401b8eeec3b756b9fe24",
            "value": " 6/6 [00:08&lt;00:00,  2.08s/it]"
          }
        },
        "63c6da9444f349328ab993f5b4eea142": {
          "model_module": "@jupyter-widgets/base",
          "model_name": "LayoutModel",
          "model_module_version": "1.2.0",
          "state": {
            "_model_module": "@jupyter-widgets/base",
            "_model_module_version": "1.2.0",
            "_model_name": "LayoutModel",
            "_view_count": null,
            "_view_module": "@jupyter-widgets/base",
            "_view_module_version": "1.2.0",
            "_view_name": "LayoutView",
            "align_content": null,
            "align_items": null,
            "align_self": null,
            "border": null,
            "bottom": null,
            "display": null,
            "flex": null,
            "flex_flow": null,
            "grid_area": null,
            "grid_auto_columns": null,
            "grid_auto_flow": null,
            "grid_auto_rows": null,
            "grid_column": null,
            "grid_gap": null,
            "grid_row": null,
            "grid_template_areas": null,
            "grid_template_columns": null,
            "grid_template_rows": null,
            "height": null,
            "justify_content": null,
            "justify_items": null,
            "left": null,
            "margin": null,
            "max_height": null,
            "max_width": null,
            "min_height": null,
            "min_width": null,
            "object_fit": null,
            "object_position": null,
            "order": null,
            "overflow": null,
            "overflow_x": null,
            "overflow_y": null,
            "padding": null,
            "right": null,
            "top": null,
            "visibility": null,
            "width": null
          }
        },
        "8ba7429ba46a49648841c5372b57104c": {
          "model_module": "@jupyter-widgets/base",
          "model_name": "LayoutModel",
          "model_module_version": "1.2.0",
          "state": {
            "_model_module": "@jupyter-widgets/base",
            "_model_module_version": "1.2.0",
            "_model_name": "LayoutModel",
            "_view_count": null,
            "_view_module": "@jupyter-widgets/base",
            "_view_module_version": "1.2.0",
            "_view_name": "LayoutView",
            "align_content": null,
            "align_items": null,
            "align_self": null,
            "border": null,
            "bottom": null,
            "display": null,
            "flex": null,
            "flex_flow": null,
            "grid_area": null,
            "grid_auto_columns": null,
            "grid_auto_flow": null,
            "grid_auto_rows": null,
            "grid_column": null,
            "grid_gap": null,
            "grid_row": null,
            "grid_template_areas": null,
            "grid_template_columns": null,
            "grid_template_rows": null,
            "height": null,
            "justify_content": null,
            "justify_items": null,
            "left": null,
            "margin": null,
            "max_height": null,
            "max_width": null,
            "min_height": null,
            "min_width": null,
            "object_fit": null,
            "object_position": null,
            "order": null,
            "overflow": null,
            "overflow_x": null,
            "overflow_y": null,
            "padding": null,
            "right": null,
            "top": null,
            "visibility": null,
            "width": null
          }
        },
        "f89cda3db5044a13b6cbdfa3e19b8917": {
          "model_module": "@jupyter-widgets/controls",
          "model_name": "DescriptionStyleModel",
          "model_module_version": "1.5.0",
          "state": {
            "_model_module": "@jupyter-widgets/controls",
            "_model_module_version": "1.5.0",
            "_model_name": "DescriptionStyleModel",
            "_view_count": null,
            "_view_module": "@jupyter-widgets/base",
            "_view_module_version": "1.2.0",
            "_view_name": "StyleView",
            "description_width": ""
          }
        },
        "0258d9b0edfb4547890eaf254e36db32": {
          "model_module": "@jupyter-widgets/base",
          "model_name": "LayoutModel",
          "model_module_version": "1.2.0",
          "state": {
            "_model_module": "@jupyter-widgets/base",
            "_model_module_version": "1.2.0",
            "_model_name": "LayoutModel",
            "_view_count": null,
            "_view_module": "@jupyter-widgets/base",
            "_view_module_version": "1.2.0",
            "_view_name": "LayoutView",
            "align_content": null,
            "align_items": null,
            "align_self": null,
            "border": null,
            "bottom": null,
            "display": null,
            "flex": null,
            "flex_flow": null,
            "grid_area": null,
            "grid_auto_columns": null,
            "grid_auto_flow": null,
            "grid_auto_rows": null,
            "grid_column": null,
            "grid_gap": null,
            "grid_row": null,
            "grid_template_areas": null,
            "grid_template_columns": null,
            "grid_template_rows": null,
            "height": null,
            "justify_content": null,
            "justify_items": null,
            "left": null,
            "margin": null,
            "max_height": null,
            "max_width": null,
            "min_height": null,
            "min_width": null,
            "object_fit": null,
            "object_position": null,
            "order": null,
            "overflow": null,
            "overflow_x": null,
            "overflow_y": null,
            "padding": null,
            "right": null,
            "top": null,
            "visibility": null,
            "width": null
          }
        },
        "e5eebc3d0a2a4ba1ba639f418afa69e7": {
          "model_module": "@jupyter-widgets/controls",
          "model_name": "ProgressStyleModel",
          "model_module_version": "1.5.0",
          "state": {
            "_model_module": "@jupyter-widgets/controls",
            "_model_module_version": "1.5.0",
            "_model_name": "ProgressStyleModel",
            "_view_count": null,
            "_view_module": "@jupyter-widgets/base",
            "_view_module_version": "1.2.0",
            "_view_name": "StyleView",
            "bar_color": null,
            "description_width": ""
          }
        },
        "dba7be0154f64ebb8c935f9973fd56d4": {
          "model_module": "@jupyter-widgets/base",
          "model_name": "LayoutModel",
          "model_module_version": "1.2.0",
          "state": {
            "_model_module": "@jupyter-widgets/base",
            "_model_module_version": "1.2.0",
            "_model_name": "LayoutModel",
            "_view_count": null,
            "_view_module": "@jupyter-widgets/base",
            "_view_module_version": "1.2.0",
            "_view_name": "LayoutView",
            "align_content": null,
            "align_items": null,
            "align_self": null,
            "border": null,
            "bottom": null,
            "display": null,
            "flex": null,
            "flex_flow": null,
            "grid_area": null,
            "grid_auto_columns": null,
            "grid_auto_flow": null,
            "grid_auto_rows": null,
            "grid_column": null,
            "grid_gap": null,
            "grid_row": null,
            "grid_template_areas": null,
            "grid_template_columns": null,
            "grid_template_rows": null,
            "height": null,
            "justify_content": null,
            "justify_items": null,
            "left": null,
            "margin": null,
            "max_height": null,
            "max_width": null,
            "min_height": null,
            "min_width": null,
            "object_fit": null,
            "object_position": null,
            "order": null,
            "overflow": null,
            "overflow_x": null,
            "overflow_y": null,
            "padding": null,
            "right": null,
            "top": null,
            "visibility": null,
            "width": null
          }
        },
        "4c63f7bf62b2401b8eeec3b756b9fe24": {
          "model_module": "@jupyter-widgets/controls",
          "model_name": "DescriptionStyleModel",
          "model_module_version": "1.5.0",
          "state": {
            "_model_module": "@jupyter-widgets/controls",
            "_model_module_version": "1.5.0",
            "_model_name": "DescriptionStyleModel",
            "_view_count": null,
            "_view_module": "@jupyter-widgets/base",
            "_view_module_version": "1.2.0",
            "_view_name": "StyleView",
            "description_width": ""
          }
        },
        "b473576a0a1244c99c9f734f8ea06c04": {
          "model_module": "@jupyter-widgets/controls",
          "model_name": "HBoxModel",
          "model_module_version": "1.5.0",
          "state": {
            "_dom_classes": [],
            "_model_module": "@jupyter-widgets/controls",
            "_model_module_version": "1.5.0",
            "_model_name": "HBoxModel",
            "_view_count": null,
            "_view_module": "@jupyter-widgets/controls",
            "_view_module_version": "1.5.0",
            "_view_name": "HBoxView",
            "box_style": "",
            "children": [
              "IPY_MODEL_1dde3bbfd8144cfab6f62d51e1638c93",
              "IPY_MODEL_6a021bfa28594f409122307d1bf9ab94",
              "IPY_MODEL_0acc9fcd979e471db2513787bf484fc2"
            ],
            "layout": "IPY_MODEL_cef1a927dc664ead8a6eeaae340b9704"
          }
        },
        "1dde3bbfd8144cfab6f62d51e1638c93": {
          "model_module": "@jupyter-widgets/controls",
          "model_name": "HTMLModel",
          "model_module_version": "1.5.0",
          "state": {
            "_dom_classes": [],
            "_model_module": "@jupyter-widgets/controls",
            "_model_module_version": "1.5.0",
            "_model_name": "HTMLModel",
            "_view_count": null,
            "_view_module": "@jupyter-widgets/controls",
            "_view_module_version": "1.5.0",
            "_view_name": "HTMLView",
            "description": "",
            "description_tooltip": null,
            "layout": "IPY_MODEL_94d311bd6d0f42829fdcf8944489f704",
            "placeholder": "​",
            "style": "IPY_MODEL_c9562f1c705b476ea5ef095171a001b1",
            "value": "Uploading /content/ridge_model.pkl: 100.000%"
          }
        },
        "6a021bfa28594f409122307d1bf9ab94": {
          "model_module": "@jupyter-widgets/controls",
          "model_name": "FloatProgressModel",
          "model_module_version": "1.5.0",
          "state": {
            "_dom_classes": [],
            "_model_module": "@jupyter-widgets/controls",
            "_model_module_version": "1.5.0",
            "_model_name": "FloatProgressModel",
            "_view_count": null,
            "_view_module": "@jupyter-widgets/controls",
            "_view_module_version": "1.5.0",
            "_view_name": "ProgressView",
            "bar_style": "success",
            "description": "",
            "description_tooltip": null,
            "layout": "IPY_MODEL_b45c928871304d55ada056bc0d7ff8b3",
            "max": 720,
            "min": 0,
            "orientation": "horizontal",
            "style": "IPY_MODEL_5e9ec3d3a76a4ad69117409af4cf95a6",
            "value": 720
          }
        },
        "0acc9fcd979e471db2513787bf484fc2": {
          "model_module": "@jupyter-widgets/controls",
          "model_name": "HTMLModel",
          "model_module_version": "1.5.0",
          "state": {
            "_dom_classes": [],
            "_model_module": "@jupyter-widgets/controls",
            "_model_module_version": "1.5.0",
            "_model_name": "HTMLModel",
            "_view_count": null,
            "_view_module": "@jupyter-widgets/controls",
            "_view_module_version": "1.5.0",
            "_view_name": "HTMLView",
            "description": "",
            "description_tooltip": null,
            "layout": "IPY_MODEL_be2a82fcfeae41da96001cc92df08ecb",
            "placeholder": "​",
            "style": "IPY_MODEL_806dca41ead64dc2b017dcead56a44fd",
            "value": " 720/720 elapsed&lt;00:01 remaining&lt;00:00"
          }
        },
        "cef1a927dc664ead8a6eeaae340b9704": {
          "model_module": "@jupyter-widgets/base",
          "model_name": "LayoutModel",
          "model_module_version": "1.2.0",
          "state": {
            "_model_module": "@jupyter-widgets/base",
            "_model_module_version": "1.2.0",
            "_model_name": "LayoutModel",
            "_view_count": null,
            "_view_module": "@jupyter-widgets/base",
            "_view_module_version": "1.2.0",
            "_view_name": "LayoutView",
            "align_content": null,
            "align_items": null,
            "align_self": null,
            "border": null,
            "bottom": null,
            "display": null,
            "flex": null,
            "flex_flow": null,
            "grid_area": null,
            "grid_auto_columns": null,
            "grid_auto_flow": null,
            "grid_auto_rows": null,
            "grid_column": null,
            "grid_gap": null,
            "grid_row": null,
            "grid_template_areas": null,
            "grid_template_columns": null,
            "grid_template_rows": null,
            "height": null,
            "justify_content": null,
            "justify_items": null,
            "left": null,
            "margin": null,
            "max_height": null,
            "max_width": null,
            "min_height": null,
            "min_width": null,
            "object_fit": null,
            "object_position": null,
            "order": null,
            "overflow": null,
            "overflow_x": null,
            "overflow_y": null,
            "padding": null,
            "right": null,
            "top": null,
            "visibility": null,
            "width": null
          }
        },
        "94d311bd6d0f42829fdcf8944489f704": {
          "model_module": "@jupyter-widgets/base",
          "model_name": "LayoutModel",
          "model_module_version": "1.2.0",
          "state": {
            "_model_module": "@jupyter-widgets/base",
            "_model_module_version": "1.2.0",
            "_model_name": "LayoutModel",
            "_view_count": null,
            "_view_module": "@jupyter-widgets/base",
            "_view_module_version": "1.2.0",
            "_view_name": "LayoutView",
            "align_content": null,
            "align_items": null,
            "align_self": null,
            "border": null,
            "bottom": null,
            "display": null,
            "flex": null,
            "flex_flow": null,
            "grid_area": null,
            "grid_auto_columns": null,
            "grid_auto_flow": null,
            "grid_auto_rows": null,
            "grid_column": null,
            "grid_gap": null,
            "grid_row": null,
            "grid_template_areas": null,
            "grid_template_columns": null,
            "grid_template_rows": null,
            "height": null,
            "justify_content": null,
            "justify_items": null,
            "left": null,
            "margin": null,
            "max_height": null,
            "max_width": null,
            "min_height": null,
            "min_width": null,
            "object_fit": null,
            "object_position": null,
            "order": null,
            "overflow": null,
            "overflow_x": null,
            "overflow_y": null,
            "padding": null,
            "right": null,
            "top": null,
            "visibility": null,
            "width": null
          }
        },
        "c9562f1c705b476ea5ef095171a001b1": {
          "model_module": "@jupyter-widgets/controls",
          "model_name": "DescriptionStyleModel",
          "model_module_version": "1.5.0",
          "state": {
            "_model_module": "@jupyter-widgets/controls",
            "_model_module_version": "1.5.0",
            "_model_name": "DescriptionStyleModel",
            "_view_count": null,
            "_view_module": "@jupyter-widgets/base",
            "_view_module_version": "1.2.0",
            "_view_name": "StyleView",
            "description_width": ""
          }
        },
        "b45c928871304d55ada056bc0d7ff8b3": {
          "model_module": "@jupyter-widgets/base",
          "model_name": "LayoutModel",
          "model_module_version": "1.2.0",
          "state": {
            "_model_module": "@jupyter-widgets/base",
            "_model_module_version": "1.2.0",
            "_model_name": "LayoutModel",
            "_view_count": null,
            "_view_module": "@jupyter-widgets/base",
            "_view_module_version": "1.2.0",
            "_view_name": "LayoutView",
            "align_content": null,
            "align_items": null,
            "align_self": null,
            "border": null,
            "bottom": null,
            "display": null,
            "flex": null,
            "flex_flow": null,
            "grid_area": null,
            "grid_auto_columns": null,
            "grid_auto_flow": null,
            "grid_auto_rows": null,
            "grid_column": null,
            "grid_gap": null,
            "grid_row": null,
            "grid_template_areas": null,
            "grid_template_columns": null,
            "grid_template_rows": null,
            "height": null,
            "justify_content": null,
            "justify_items": null,
            "left": null,
            "margin": null,
            "max_height": null,
            "max_width": null,
            "min_height": null,
            "min_width": null,
            "object_fit": null,
            "object_position": null,
            "order": null,
            "overflow": null,
            "overflow_x": null,
            "overflow_y": null,
            "padding": null,
            "right": null,
            "top": null,
            "visibility": null,
            "width": null
          }
        },
        "5e9ec3d3a76a4ad69117409af4cf95a6": {
          "model_module": "@jupyter-widgets/controls",
          "model_name": "ProgressStyleModel",
          "model_module_version": "1.5.0",
          "state": {
            "_model_module": "@jupyter-widgets/controls",
            "_model_module_version": "1.5.0",
            "_model_name": "ProgressStyleModel",
            "_view_count": null,
            "_view_module": "@jupyter-widgets/base",
            "_view_module_version": "1.2.0",
            "_view_name": "StyleView",
            "bar_color": null,
            "description_width": ""
          }
        },
        "be2a82fcfeae41da96001cc92df08ecb": {
          "model_module": "@jupyter-widgets/base",
          "model_name": "LayoutModel",
          "model_module_version": "1.2.0",
          "state": {
            "_model_module": "@jupyter-widgets/base",
            "_model_module_version": "1.2.0",
            "_model_name": "LayoutModel",
            "_view_count": null,
            "_view_module": "@jupyter-widgets/base",
            "_view_module_version": "1.2.0",
            "_view_name": "LayoutView",
            "align_content": null,
            "align_items": null,
            "align_self": null,
            "border": null,
            "bottom": null,
            "display": null,
            "flex": null,
            "flex_flow": null,
            "grid_area": null,
            "grid_auto_columns": null,
            "grid_auto_flow": null,
            "grid_auto_rows": null,
            "grid_column": null,
            "grid_gap": null,
            "grid_row": null,
            "grid_template_areas": null,
            "grid_template_columns": null,
            "grid_template_rows": null,
            "height": null,
            "justify_content": null,
            "justify_items": null,
            "left": null,
            "margin": null,
            "max_height": null,
            "max_width": null,
            "min_height": null,
            "min_width": null,
            "object_fit": null,
            "object_position": null,
            "order": null,
            "overflow": null,
            "overflow_x": null,
            "overflow_y": null,
            "padding": null,
            "right": null,
            "top": null,
            "visibility": null,
            "width": null
          }
        },
        "806dca41ead64dc2b017dcead56a44fd": {
          "model_module": "@jupyter-widgets/controls",
          "model_name": "DescriptionStyleModel",
          "model_module_version": "1.5.0",
          "state": {
            "_model_module": "@jupyter-widgets/controls",
            "_model_module_version": "1.5.0",
            "_model_name": "DescriptionStyleModel",
            "_view_count": null,
            "_view_module": "@jupyter-widgets/base",
            "_view_module_version": "1.2.0",
            "_view_name": "StyleView",
            "description_width": ""
          }
        }
      }
    }
  },
  "cells": [
    {
      "cell_type": "markdown",
      "metadata": {
        "id": "view-in-github",
        "colab_type": "text"
      },
      "source": [
        "<a href=\"https://colab.research.google.com/github/DuaeZahra/sp_10-Prediction/blob/main/AQI.ipynb\" target=\"_parent\"><img src=\"https://colab.research.google.com/assets/colab-badge.svg\" alt=\"Open In Colab\"/></a>"
      ]
    },
    {
      "cell_type": "markdown",
      "source": [
        "## Installing required packages"
      ],
      "metadata": {
        "id": "RoNaHAATjB0D"
      }
    },
    {
      "cell_type": "code",
      "source": [
        "pip install requests pandas numpy matplotlib seaborn scikit-learn meteostat hopsworks shap pytz"
      ],
      "metadata": {
        "colab": {
          "base_uri": "https://localhost:8080/"
        },
        "id": "dVX2caanW0cM",
        "outputId": "f0a1914d-7b40-4d46-bc48-fbde36d36670",
        "collapsed": true
      },
      "execution_count": null,
      "outputs": [
        {
          "output_type": "stream",
          "name": "stdout",
          "text": [
            "Requirement already satisfied: requests in /usr/local/lib/python3.11/dist-packages (2.32.3)\n",
            "Requirement already satisfied: pandas in /usr/local/lib/python3.11/dist-packages (2.2.2)\n",
            "Requirement already satisfied: numpy in /usr/local/lib/python3.11/dist-packages (2.0.2)\n",
            "Requirement already satisfied: matplotlib in /usr/local/lib/python3.11/dist-packages (3.10.0)\n",
            "Requirement already satisfied: seaborn in /usr/local/lib/python3.11/dist-packages (0.13.2)\n",
            "Requirement already satisfied: scikit-learn in /usr/local/lib/python3.11/dist-packages (1.6.1)\n",
            "Collecting meteostat\n",
            "  Downloading meteostat-1.6.8-py3-none-any.whl.metadata (4.6 kB)\n",
            "Collecting hopsworks\n",
            "  Downloading hopsworks-4.2.1-py3-none-any.whl.metadata (11 kB)\n",
            "Requirement already satisfied: shap in /usr/local/lib/python3.11/dist-packages (0.47.1)\n",
            "Requirement already satisfied: pytz in /usr/local/lib/python3.11/dist-packages (2025.2)\n",
            "Requirement already satisfied: charset-normalizer<4,>=2 in /usr/local/lib/python3.11/dist-packages (from requests) (3.4.1)\n",
            "Requirement already satisfied: idna<4,>=2.5 in /usr/local/lib/python3.11/dist-packages (from requests) (3.10)\n",
            "Requirement already satisfied: urllib3<3,>=1.21.1 in /usr/local/lib/python3.11/dist-packages (from requests) (2.3.0)\n",
            "Requirement already satisfied: certifi>=2017.4.17 in /usr/local/lib/python3.11/dist-packages (from requests) (2025.1.31)\n",
            "Requirement already satisfied: python-dateutil>=2.8.2 in /usr/local/lib/python3.11/dist-packages (from pandas) (2.8.2)\n",
            "Requirement already satisfied: tzdata>=2022.7 in /usr/local/lib/python3.11/dist-packages (from pandas) (2025.2)\n",
            "Requirement already satisfied: contourpy>=1.0.1 in /usr/local/lib/python3.11/dist-packages (from matplotlib) (1.3.1)\n",
            "Requirement already satisfied: cycler>=0.10 in /usr/local/lib/python3.11/dist-packages (from matplotlib) (0.12.1)\n",
            "Requirement already satisfied: fonttools>=4.22.0 in /usr/local/lib/python3.11/dist-packages (from matplotlib) (4.57.0)\n",
            "Requirement already satisfied: kiwisolver>=1.3.1 in /usr/local/lib/python3.11/dist-packages (from matplotlib) (1.4.8)\n",
            "Requirement already satisfied: packaging>=20.0 in /usr/local/lib/python3.11/dist-packages (from matplotlib) (24.2)\n",
            "Requirement already satisfied: pillow>=8 in /usr/local/lib/python3.11/dist-packages (from matplotlib) (11.1.0)\n",
            "Requirement already satisfied: pyparsing>=2.3.1 in /usr/local/lib/python3.11/dist-packages (from matplotlib) (3.2.3)\n",
            "Requirement already satisfied: scipy>=1.6.0 in /usr/local/lib/python3.11/dist-packages (from scikit-learn) (1.14.1)\n",
            "Requirement already satisfied: joblib>=1.2.0 in /usr/local/lib/python3.11/dist-packages (from scikit-learn) (1.4.2)\n",
            "Requirement already satisfied: threadpoolctl>=3.1.0 in /usr/local/lib/python3.11/dist-packages (from scikit-learn) (3.6.0)\n",
            "Collecting pyhumps==1.6.1 (from hopsworks)\n",
            "  Downloading pyhumps-1.6.1-py3-none-any.whl.metadata (3.7 kB)\n",
            "Collecting furl (from hopsworks)\n",
            "  Downloading furl-2.1.4-py2.py3-none-any.whl.metadata (25 kB)\n",
            "Collecting boto3 (from hopsworks)\n",
            "  Downloading boto3-1.37.33-py3-none-any.whl.metadata (6.7 kB)\n",
            "Collecting pandas\n",
            "  Downloading pandas-2.1.4-cp311-cp311-manylinux_2_17_x86_64.manylinux2014_x86_64.whl.metadata (18 kB)\n",
            "Collecting pyjks (from hopsworks)\n",
            "  Downloading pyjks-20.0.0-py2.py3-none-any.whl.metadata (1.7 kB)\n",
            "Collecting mock (from hopsworks)\n",
            "  Downloading mock-5.2.0-py3-none-any.whl.metadata (3.1 kB)\n",
            "Collecting avro==1.11.3 (from hopsworks)\n",
            "  Downloading avro-1.11.3.tar.gz (90 kB)\n",
            "\u001b[2K     \u001b[90m━━━━━━━━━━━━━━━━━━━━━━━━━━━━━━━━━━━━━━━━\u001b[0m \u001b[32m90.6/90.6 kB\u001b[0m \u001b[31m3.9 MB/s\u001b[0m eta \u001b[36m0:00:00\u001b[0m\n",
            "\u001b[?25h  Installing build dependencies ... \u001b[?25l\u001b[?25hdone\n",
            "  Getting requirements to build wheel ... \u001b[?25l\u001b[?25hdone\n",
            "  Preparing metadata (pyproject.toml) ... \u001b[?25l\u001b[?25hdone\n",
            "Requirement already satisfied: sqlalchemy in /usr/local/lib/python3.11/dist-packages (from hopsworks) (2.0.40)\n",
            "Collecting PyMySQL[rsa] (from hopsworks)\n",
            "  Downloading PyMySQL-1.1.1-py3-none-any.whl.metadata (4.4 kB)\n",
            "Requirement already satisfied: tzlocal in /usr/local/lib/python3.11/dist-packages (from hopsworks) (5.3.1)\n",
            "Requirement already satisfied: fsspec in /usr/local/lib/python3.11/dist-packages (from hopsworks) (2025.3.2)\n",
            "Collecting retrying (from hopsworks)\n",
            "  Downloading retrying-1.3.4-py3-none-any.whl.metadata (6.9 kB)\n",
            "Collecting hopsworks_aiomysql==0.2.1 (from hopsworks_aiomysql[sa]==0.2.1->hopsworks)\n",
            "  Downloading hopsworks_aiomysql-0.2.1-py3-none-any.whl.metadata (11 kB)\n",
            "Collecting opensearch-py<=2.4.2,>=1.1.0 (from hopsworks)\n",
            "  Downloading opensearch_py-2.4.2-py2.py3-none-any.whl.metadata (6.8 kB)\n",
            "Requirement already satisfied: tqdm in /usr/local/lib/python3.11/dist-packages (from hopsworks) (4.67.1)\n",
            "Requirement already satisfied: grpcio<2.0.0,>=1.49.1 in /usr/local/lib/python3.11/dist-packages (from hopsworks) (1.71.0)\n",
            "Collecting protobuf<5.0.0,>=4.25.4 (from hopsworks)\n",
            "  Downloading protobuf-4.25.6-cp37-abi3-manylinux2014_x86_64.whl.metadata (541 bytes)\n",
            "Collecting sqlalchemy (from hopsworks)\n",
            "  Downloading SQLAlchemy-2.0.29-cp311-cp311-manylinux_2_17_x86_64.manylinux2014_x86_64.whl.metadata (9.6 kB)\n",
            "Collecting numpy\n",
            "  Downloading numpy-1.26.4-cp311-cp311-manylinux_2_17_x86_64.manylinux2014_x86_64.whl.metadata (61 kB)\n",
            "\u001b[2K     \u001b[90m━━━━━━━━━━━━━━━━━━━━━━━━━━━━━━━━━━━━━━━━\u001b[0m \u001b[32m61.0/61.0 kB\u001b[0m \u001b[31m5.4 MB/s\u001b[0m eta \u001b[36m0:00:00\u001b[0m\n",
            "\u001b[?25hRequirement already satisfied: slicer==0.0.8 in /usr/local/lib/python3.11/dist-packages (from shap) (0.0.8)\n",
            "Requirement already satisfied: numba>=0.54 in /usr/local/lib/python3.11/dist-packages (from shap) (0.60.0)\n",
            "Requirement already satisfied: cloudpickle in /usr/local/lib/python3.11/dist-packages (from shap) (3.1.1)\n",
            "Requirement already satisfied: typing-extensions in /usr/local/lib/python3.11/dist-packages (from shap) (4.13.1)\n",
            "Requirement already satisfied: llvmlite<0.44,>=0.43.0dev0 in /usr/local/lib/python3.11/dist-packages (from numba>=0.54->shap) (0.43.0)\n",
            "Requirement already satisfied: six in /usr/local/lib/python3.11/dist-packages (from opensearch-py<=2.4.2,>=1.1.0->hopsworks) (1.17.0)\n",
            "Requirement already satisfied: greenlet!=0.4.17 in /usr/local/lib/python3.11/dist-packages (from sqlalchemy->hopsworks) (3.1.1)\n",
            "Collecting botocore<1.38.0,>=1.37.33 (from boto3->hopsworks)\n",
            "  Downloading botocore-1.37.33-py3-none-any.whl.metadata (5.7 kB)\n",
            "Collecting jmespath<2.0.0,>=0.7.1 (from boto3->hopsworks)\n",
            "  Downloading jmespath-1.0.1-py3-none-any.whl.metadata (7.6 kB)\n",
            "Collecting s3transfer<0.12.0,>=0.11.0 (from boto3->hopsworks)\n",
            "  Downloading s3transfer-0.11.4-py3-none-any.whl.metadata (1.7 kB)\n",
            "Collecting orderedmultidict>=1.0.1 (from furl->hopsworks)\n",
            "  Downloading orderedmultidict-1.0.1-py2.py3-none-any.whl.metadata (1.3 kB)\n",
            "Collecting javaobj-py3 (from pyjks->hopsworks)\n",
            "  Downloading javaobj_py3-0.4.4-py2.py3-none-any.whl.metadata (17 kB)\n",
            "Requirement already satisfied: pyasn1>=0.3.5 in /usr/local/lib/python3.11/dist-packages (from pyjks->hopsworks) (0.6.1)\n",
            "Requirement already satisfied: pyasn1-modules in /usr/local/lib/python3.11/dist-packages (from pyjks->hopsworks) (0.4.2)\n",
            "Collecting pycryptodomex (from pyjks->hopsworks)\n",
            "  Downloading pycryptodomex-3.22.0-cp37-abi3-manylinux_2_17_x86_64.manylinux2014_x86_64.whl.metadata (3.4 kB)\n",
            "Collecting twofish (from pyjks->hopsworks)\n",
            "  Downloading twofish-0.3.0.tar.gz (26 kB)\n",
            "  Preparing metadata (setup.py) ... \u001b[?25l\u001b[?25hdone\n",
            "Requirement already satisfied: cryptography in /usr/local/lib/python3.11/dist-packages (from PyMySQL[rsa]->hopsworks) (43.0.3)\n",
            "Requirement already satisfied: cffi>=1.12 in /usr/local/lib/python3.11/dist-packages (from cryptography->PyMySQL[rsa]->hopsworks) (1.17.1)\n",
            "Requirement already satisfied: pycparser in /usr/local/lib/python3.11/dist-packages (from cffi>=1.12->cryptography->PyMySQL[rsa]->hopsworks) (2.22)\n",
            "Downloading meteostat-1.6.8-py3-none-any.whl (31 kB)\n",
            "Downloading hopsworks-4.2.1-py3-none-any.whl (660 kB)\n",
            "\u001b[2K   \u001b[90m━━━━━━━━━━━━━━━━━━━━━━━━━━━━━━━━━━━━━━━━\u001b[0m \u001b[32m660.7/660.7 kB\u001b[0m \u001b[31m14.9 MB/s\u001b[0m eta \u001b[36m0:00:00\u001b[0m\n",
            "\u001b[?25hDownloading hopsworks_aiomysql-0.2.1-py3-none-any.whl (44 kB)\n",
            "\u001b[2K   \u001b[90m━━━━━━━━━━━━━━━━━━━━━━━━━━━━━━━━━━━━━━━━\u001b[0m \u001b[32m44.2/44.2 kB\u001b[0m \u001b[31m3.9 MB/s\u001b[0m eta \u001b[36m0:00:00\u001b[0m\n",
            "\u001b[?25hDownloading pyhumps-1.6.1-py3-none-any.whl (5.0 kB)\n",
            "Downloading pandas-2.1.4-cp311-cp311-manylinux_2_17_x86_64.manylinux2014_x86_64.whl (12.2 MB)\n",
            "\u001b[2K   \u001b[90m━━━━━━━━━━━━━━━━━━━━━━━━━━━━━━━━━━━━━━━━\u001b[0m \u001b[32m12.2/12.2 MB\u001b[0m \u001b[31m66.1 MB/s\u001b[0m eta \u001b[36m0:00:00\u001b[0m\n",
            "\u001b[?25hDownloading numpy-1.26.4-cp311-cp311-manylinux_2_17_x86_64.manylinux2014_x86_64.whl (18.3 MB)\n",
            "\u001b[2K   \u001b[90m━━━━━━━━━━━━━━━━━━━━━━━━━━━━━━━━━━━━━━━━\u001b[0m \u001b[32m18.3/18.3 MB\u001b[0m \u001b[31m52.4 MB/s\u001b[0m eta \u001b[36m0:00:00\u001b[0m\n",
            "\u001b[?25hDownloading opensearch_py-2.4.2-py2.py3-none-any.whl (258 kB)\n",
            "\u001b[2K   \u001b[90m━━━━━━━━━━━━━━━━━━━━━━━━━━━━━━━━━━━━━━━━\u001b[0m \u001b[32m258.6/258.6 kB\u001b[0m \u001b[31m22.9 MB/s\u001b[0m eta \u001b[36m0:00:00\u001b[0m\n",
            "\u001b[?25hDownloading protobuf-4.25.6-cp37-abi3-manylinux2014_x86_64.whl (294 kB)\n",
            "\u001b[2K   \u001b[90m━━━━━━━━━━━━━━━━━━━━━━━━━━━━━━━━━━━━━━━━\u001b[0m \u001b[32m294.6/294.6 kB\u001b[0m \u001b[31m22.6 MB/s\u001b[0m eta \u001b[36m0:00:00\u001b[0m\n",
            "\u001b[?25hDownloading SQLAlchemy-2.0.29-cp311-cp311-manylinux_2_17_x86_64.manylinux2014_x86_64.whl (3.2 MB)\n",
            "\u001b[2K   \u001b[90m━━━━━━━━━━━━━━━━━━━━━━━━━━━━━━━━━━━━━━━━\u001b[0m \u001b[32m3.2/3.2 MB\u001b[0m \u001b[31m73.5 MB/s\u001b[0m eta \u001b[36m0:00:00\u001b[0m\n",
            "\u001b[?25hDownloading boto3-1.37.33-py3-none-any.whl (139 kB)\n",
            "\u001b[2K   \u001b[90m━━━━━━━━━━━━━━━━━━━━━━━━━━━━━━━━━━━━━━━━\u001b[0m \u001b[32m139.9/139.9 kB\u001b[0m \u001b[31m12.0 MB/s\u001b[0m eta \u001b[36m0:00:00\u001b[0m\n",
            "\u001b[?25hDownloading furl-2.1.4-py2.py3-none-any.whl (27 kB)\n",
            "Downloading mock-5.2.0-py3-none-any.whl (31 kB)\n",
            "Downloading pyjks-20.0.0-py2.py3-none-any.whl (45 kB)\n",
            "\u001b[2K   \u001b[90m━━━━━━━━━━━━━━━━━━━━━━━━━━━━━━━━━━━━━━━━\u001b[0m \u001b[32m45.3/45.3 kB\u001b[0m \u001b[31m3.9 MB/s\u001b[0m eta \u001b[36m0:00:00\u001b[0m\n",
            "\u001b[?25hDownloading retrying-1.3.4-py3-none-any.whl (11 kB)\n",
            "Downloading botocore-1.37.33-py3-none-any.whl (13.5 MB)\n",
            "\u001b[2K   \u001b[90m━━━━━━━━━━━━━━━━━━━━━━━━━━━━━━━━━━━━━━━━\u001b[0m \u001b[32m13.5/13.5 MB\u001b[0m \u001b[31m63.7 MB/s\u001b[0m eta \u001b[36m0:00:00\u001b[0m\n",
            "\u001b[?25hDownloading jmespath-1.0.1-py3-none-any.whl (20 kB)\n",
            "Downloading orderedmultidict-1.0.1-py2.py3-none-any.whl (11 kB)\n",
            "Downloading PyMySQL-1.1.1-py3-none-any.whl (44 kB)\n",
            "\u001b[2K   \u001b[90m━━━━━━━━━━━━━━━━━━━━━━━━━━━━━━━━━━━━━━━━\u001b[0m \u001b[32m45.0/45.0 kB\u001b[0m \u001b[31m4.4 MB/s\u001b[0m eta \u001b[36m0:00:00\u001b[0m\n",
            "\u001b[?25hDownloading s3transfer-0.11.4-py3-none-any.whl (84 kB)\n",
            "\u001b[2K   \u001b[90m━━━━━━━━━━━━━━━━━━━━━━━━━━━━━━━━━━━━━━━━\u001b[0m \u001b[32m84.4/84.4 kB\u001b[0m \u001b[31m8.2 MB/s\u001b[0m eta \u001b[36m0:00:00\u001b[0m\n",
            "\u001b[?25hDownloading javaobj_py3-0.4.4-py2.py3-none-any.whl (57 kB)\n",
            "\u001b[2K   \u001b[90m━━━━━━━━━━━━━━━━━━━━━━━━━━━━━━━━━━━━━━━━\u001b[0m \u001b[32m57.1/57.1 kB\u001b[0m \u001b[31m5.7 MB/s\u001b[0m eta \u001b[36m0:00:00\u001b[0m\n",
            "\u001b[?25hDownloading pycryptodomex-3.22.0-cp37-abi3-manylinux_2_17_x86_64.manylinux2014_x86_64.whl (2.3 MB)\n",
            "\u001b[2K   \u001b[90m━━━━━━━━━━━━━━━━━━━━━━━━━━━━━━━━━━━━━━━━\u001b[0m \u001b[32m2.3/2.3 MB\u001b[0m \u001b[31m61.4 MB/s\u001b[0m eta \u001b[36m0:00:00\u001b[0m\n",
            "\u001b[?25hBuilding wheels for collected packages: avro, twofish\n",
            "  Building wheel for avro (pyproject.toml) ... \u001b[?25l\u001b[?25hdone\n",
            "  Created wheel for avro: filename=avro-1.11.3-py2.py3-none-any.whl size=123961 sha256=70bc3126277a07c052d0020b0fa0bbe7813df9ffb0dca62c8aab3115ac3a41a5\n",
            "  Stored in directory: /root/.cache/pip/wheels/a8/7c/a4/fa31e47be300f6e6036f57769474de0ba54f8c6e8e2d8b7547\n",
            "  Building wheel for twofish (setup.py) ... \u001b[?25l\u001b[?25hdone\n",
            "  Created wheel for twofish: filename=twofish-0.3.0-cp311-cp311-linux_x86_64.whl size=24230 sha256=3e227b9ac44e5bf8fbb5f498d8d5e6784418410961bd8e1feb13f84f7aa5b687\n",
            "  Stored in directory: /root/.cache/pip/wheels/4f/0b/b1/d97875c8e719f4a31f39c3ea718798318be32cf0068b042351\n",
            "Successfully built avro twofish\n",
            "Installing collected packages: twofish, pyhumps, javaobj-py3, sqlalchemy, retrying, PyMySQL, pycryptodomex, protobuf, orderedmultidict, numpy, mock, jmespath, avro, pyjks, pandas, opensearch-py, hopsworks_aiomysql, furl, botocore, s3transfer, meteostat, boto3, hopsworks\n",
            "  Attempting uninstall: sqlalchemy\n",
            "    Found existing installation: SQLAlchemy 2.0.40\n",
            "    Uninstalling SQLAlchemy-2.0.40:\n",
            "      Successfully uninstalled SQLAlchemy-2.0.40\n",
            "  Attempting uninstall: protobuf\n",
            "    Found existing installation: protobuf 5.29.4\n",
            "    Uninstalling protobuf-5.29.4:\n",
            "      Successfully uninstalled protobuf-5.29.4\n",
            "  Attempting uninstall: numpy\n",
            "    Found existing installation: numpy 2.0.2\n",
            "    Uninstalling numpy-2.0.2:\n",
            "      Successfully uninstalled numpy-2.0.2\n",
            "  Attempting uninstall: pandas\n",
            "    Found existing installation: pandas 2.2.2\n",
            "    Uninstalling pandas-2.2.2:\n",
            "      Successfully uninstalled pandas-2.2.2\n",
            "\u001b[31mERROR: pip's dependency resolver does not currently take into account all the packages that are installed. This behaviour is the source of the following dependency conflicts.\n",
            "google-colab 1.0.0 requires pandas==2.2.2, but you have pandas 2.1.4 which is incompatible.\n",
            "grpcio-status 1.71.0 requires protobuf<6.0dev,>=5.26.1, but you have protobuf 4.25.6 which is incompatible.\n",
            "thinc 8.3.6 requires numpy<3.0.0,>=2.0.0, but you have numpy 1.26.4 which is incompatible.\n",
            "ydf 0.11.0 requires protobuf<6.0.0,>=5.29.1, but you have protobuf 4.25.6 which is incompatible.\n",
            "mizani 0.13.2 requires pandas>=2.2.0, but you have pandas 2.1.4 which is incompatible.\n",
            "plotnine 0.14.5 requires pandas>=2.2.0, but you have pandas 2.1.4 which is incompatible.\u001b[0m\u001b[31m\n",
            "\u001b[0mSuccessfully installed PyMySQL-1.1.1 avro-1.11.3 boto3-1.37.33 botocore-1.37.33 furl-2.1.4 hopsworks-4.2.1 hopsworks_aiomysql-0.2.1 javaobj-py3-0.4.4 jmespath-1.0.1 meteostat-1.6.8 mock-5.2.0 numpy-1.26.4 opensearch-py-2.4.2 orderedmultidict-1.0.1 pandas-2.1.4 protobuf-4.25.6 pycryptodomex-3.22.0 pyhumps-1.6.1 pyjks-20.0.0 retrying-1.3.4 s3transfer-0.11.4 sqlalchemy-2.0.29 twofish-0.3.0\n"
          ]
        }
      ]
    },
    {
      "cell_type": "code",
      "source": [
        "pip install meteostat"
      ],
      "metadata": {
        "colab": {
          "base_uri": "https://localhost:8080/"
        },
        "collapsed": true,
        "id": "FdmdkqlL1JaW",
        "outputId": "41e686dd-f798-43a0-a33f-ecbe081d3eb0"
      },
      "execution_count": null,
      "outputs": [
        {
          "output_type": "stream",
          "name": "stdout",
          "text": [
            "Requirement already satisfied: meteostat in /usr/local/lib/python3.11/dist-packages (1.6.8)\n",
            "Requirement already satisfied: pandas>=1.1 in /usr/local/lib/python3.11/dist-packages (from meteostat) (2.2.3)\n",
            "Requirement already satisfied: pytz in /usr/local/lib/python3.11/dist-packages (from meteostat) (2025.2)\n",
            "Requirement already satisfied: numpy in /usr/local/lib/python3.11/dist-packages (from meteostat) (1.26.4)\n",
            "Requirement already satisfied: python-dateutil>=2.8.2 in /usr/local/lib/python3.11/dist-packages (from pandas>=1.1->meteostat) (2.8.2)\n",
            "Requirement already satisfied: tzdata>=2022.7 in /usr/local/lib/python3.11/dist-packages (from pandas>=1.1->meteostat) (2025.2)\n",
            "Requirement already satisfied: six>=1.5 in /usr/local/lib/python3.11/dist-packages (from python-dateutil>=2.8.2->pandas>=1.1->meteostat) (1.17.0)\n"
          ]
        }
      ]
    },
    {
      "cell_type": "code",
      "source": [
        "pip install hopsworks"
      ],
      "metadata": {
        "colab": {
          "base_uri": "https://localhost:8080/"
        },
        "id": "anFY35tsaEfM",
        "outputId": "a61bf8ed-6856-4125-c4d7-9ab297888e2b",
        "collapsed": true
      },
      "execution_count": null,
      "outputs": [
        {
          "output_type": "stream",
          "name": "stdout",
          "text": [
            "Requirement already satisfied: hopsworks in /usr/local/lib/python3.11/dist-packages (4.2.0)\n",
            "Requirement already satisfied: pyhumps==1.6.1 in /usr/local/lib/python3.11/dist-packages (from hopsworks) (1.6.1)\n",
            "Requirement already satisfied: requests in /usr/local/lib/python3.11/dist-packages (from hopsworks) (2.32.3)\n",
            "Requirement already satisfied: furl in /usr/local/lib/python3.11/dist-packages (from hopsworks) (2.1.4)\n",
            "Requirement already satisfied: boto3 in /usr/local/lib/python3.11/dist-packages (from hopsworks) (1.37.32)\n",
            "Collecting pandas<2.2.0 (from hopsworks)\n",
            "  Using cached pandas-2.1.4-cp311-cp311-manylinux_2_17_x86_64.manylinux2014_x86_64.whl.metadata (18 kB)\n",
            "Requirement already satisfied: pyjks in /usr/local/lib/python3.11/dist-packages (from hopsworks) (20.0.0)\n",
            "Requirement already satisfied: mock in /usr/local/lib/python3.11/dist-packages (from hopsworks) (5.2.0)\n",
            "Requirement already satisfied: avro==1.11.3 in /usr/local/lib/python3.11/dist-packages (from hopsworks) (1.11.3)\n",
            "Requirement already satisfied: sqlalchemy in /usr/local/lib/python3.11/dist-packages (from hopsworks) (2.0.29)\n",
            "Requirement already satisfied: PyMySQL[rsa] in /usr/local/lib/python3.11/dist-packages (from hopsworks) (1.1.1)\n",
            "Requirement already satisfied: tzlocal in /usr/local/lib/python3.11/dist-packages (from hopsworks) (5.3.1)\n",
            "Requirement already satisfied: fsspec in /usr/local/lib/python3.11/dist-packages (from hopsworks) (2025.3.2)\n",
            "Requirement already satisfied: retrying in /usr/local/lib/python3.11/dist-packages (from hopsworks) (1.3.4)\n",
            "Requirement already satisfied: hopsworks_aiomysql==0.2.1 in /usr/local/lib/python3.11/dist-packages (from hopsworks_aiomysql[sa]==0.2.1->hopsworks) (0.2.1)\n",
            "Requirement already satisfied: opensearch-py<=2.4.2,>=1.1.0 in /usr/local/lib/python3.11/dist-packages (from hopsworks) (2.4.2)\n",
            "Requirement already satisfied: tqdm in /usr/local/lib/python3.11/dist-packages (from hopsworks) (4.67.1)\n",
            "Requirement already satisfied: grpcio<2.0.0,>=1.49.1 in /usr/local/lib/python3.11/dist-packages (from hopsworks) (1.71.0)\n",
            "Requirement already satisfied: protobuf<5.0.0,>=4.25.4 in /usr/local/lib/python3.11/dist-packages (from hopsworks) (4.25.6)\n",
            "Requirement already satisfied: packaging in /usr/local/lib/python3.11/dist-packages (from hopsworks) (24.2)\n",
            "Requirement already satisfied: urllib3>=1.26.18 in /usr/local/lib/python3.11/dist-packages (from opensearch-py<=2.4.2,>=1.1.0->hopsworks) (2.3.0)\n",
            "Requirement already satisfied: six in /usr/local/lib/python3.11/dist-packages (from opensearch-py<=2.4.2,>=1.1.0->hopsworks) (1.17.0)\n",
            "Requirement already satisfied: python-dateutil in /usr/local/lib/python3.11/dist-packages (from opensearch-py<=2.4.2,>=1.1.0->hopsworks) (2.8.2)\n",
            "Requirement already satisfied: certifi>=2022.12.07 in /usr/local/lib/python3.11/dist-packages (from opensearch-py<=2.4.2,>=1.1.0->hopsworks) (2025.1.31)\n",
            "Requirement already satisfied: numpy<2,>=1.23.2 in /usr/local/lib/python3.11/dist-packages (from pandas<2.2.0->hopsworks) (1.26.4)\n",
            "Requirement already satisfied: pytz>=2020.1 in /usr/local/lib/python3.11/dist-packages (from pandas<2.2.0->hopsworks) (2025.2)\n",
            "Requirement already satisfied: tzdata>=2022.1 in /usr/local/lib/python3.11/dist-packages (from pandas<2.2.0->hopsworks) (2025.2)\n",
            "Requirement already satisfied: charset-normalizer<4,>=2 in /usr/local/lib/python3.11/dist-packages (from requests->hopsworks) (3.4.1)\n",
            "Requirement already satisfied: idna<4,>=2.5 in /usr/local/lib/python3.11/dist-packages (from requests->hopsworks) (3.10)\n",
            "Requirement already satisfied: typing-extensions>=4.6.0 in /usr/local/lib/python3.11/dist-packages (from sqlalchemy->hopsworks) (4.13.1)\n",
            "Requirement already satisfied: greenlet!=0.4.17 in /usr/local/lib/python3.11/dist-packages (from sqlalchemy->hopsworks) (3.1.1)\n",
            "Requirement already satisfied: botocore<1.38.0,>=1.37.32 in /usr/local/lib/python3.11/dist-packages (from boto3->hopsworks) (1.37.32)\n",
            "Requirement already satisfied: jmespath<2.0.0,>=0.7.1 in /usr/local/lib/python3.11/dist-packages (from boto3->hopsworks) (1.0.1)\n",
            "Requirement already satisfied: s3transfer<0.12.0,>=0.11.0 in /usr/local/lib/python3.11/dist-packages (from boto3->hopsworks) (0.11.4)\n",
            "Requirement already satisfied: orderedmultidict>=1.0.1 in /usr/local/lib/python3.11/dist-packages (from furl->hopsworks) (1.0.1)\n",
            "Requirement already satisfied: javaobj-py3 in /usr/local/lib/python3.11/dist-packages (from pyjks->hopsworks) (0.4.4)\n",
            "Requirement already satisfied: pyasn1>=0.3.5 in /usr/local/lib/python3.11/dist-packages (from pyjks->hopsworks) (0.6.1)\n",
            "Requirement already satisfied: pyasn1-modules in /usr/local/lib/python3.11/dist-packages (from pyjks->hopsworks) (0.4.2)\n",
            "Requirement already satisfied: pycryptodomex in /usr/local/lib/python3.11/dist-packages (from pyjks->hopsworks) (3.22.0)\n",
            "Requirement already satisfied: twofish in /usr/local/lib/python3.11/dist-packages (from pyjks->hopsworks) (0.3.0)\n",
            "Requirement already satisfied: cryptography in /usr/local/lib/python3.11/dist-packages (from PyMySQL[rsa]->hopsworks) (43.0.3)\n",
            "Requirement already satisfied: cffi>=1.12 in /usr/local/lib/python3.11/dist-packages (from cryptography->PyMySQL[rsa]->hopsworks) (1.17.1)\n",
            "Requirement already satisfied: pycparser in /usr/local/lib/python3.11/dist-packages (from cffi>=1.12->cryptography->PyMySQL[rsa]->hopsworks) (2.22)\n",
            "Using cached pandas-2.1.4-cp311-cp311-manylinux_2_17_x86_64.manylinux2014_x86_64.whl (12.2 MB)\n",
            "Installing collected packages: pandas\n",
            "  Attempting uninstall: pandas\n",
            "    Found existing installation: pandas 2.2.3\n",
            "    Uninstalling pandas-2.2.3:\n",
            "      Successfully uninstalled pandas-2.2.3\n",
            "\u001b[31mERROR: pip's dependency resolver does not currently take into account all the packages that are installed. This behaviour is the source of the following dependency conflicts.\n",
            "google-colab 1.0.0 requires pandas==2.2.2, but you have pandas 2.1.4 which is incompatible.\n",
            "plotnine 0.14.5 requires pandas>=2.2.0, but you have pandas 2.1.4 which is incompatible.\n",
            "mizani 0.13.2 requires pandas>=2.2.0, but you have pandas 2.1.4 which is incompatible.\u001b[0m\u001b[31m\n",
            "\u001b[0mSuccessfully installed pandas-2.1.4\n"
          ]
        }
      ]
    },
    {
      "cell_type": "code",
      "source": [
        "!pip install \"hopsworks[python]\"\n",
        "# pip install confluent-kafka"
      ],
      "metadata": {
        "colab": {
          "base_uri": "https://localhost:8080/"
        },
        "collapsed": true,
        "id": "MXPQC54CvvwS",
        "outputId": "db19b296-b1b9-45dd-fbec-e4ed31c13aa7"
      },
      "execution_count": null,
      "outputs": [
        {
          "output_type": "stream",
          "name": "stdout",
          "text": [
            "Requirement already satisfied: hopsworks[python] in /usr/local/lib/python3.11/dist-packages (4.2.1)\n",
            "Requirement already satisfied: pyhumps==1.6.1 in /usr/local/lib/python3.11/dist-packages (from hopsworks[python]) (1.6.1)\n",
            "Requirement already satisfied: requests in /usr/local/lib/python3.11/dist-packages (from hopsworks[python]) (2.32.3)\n",
            "Requirement already satisfied: furl in /usr/local/lib/python3.11/dist-packages (from hopsworks[python]) (2.1.4)\n",
            "Requirement already satisfied: boto3 in /usr/local/lib/python3.11/dist-packages (from hopsworks[python]) (1.37.33)\n",
            "Requirement already satisfied: pandas<2.2.0 in /usr/local/lib/python3.11/dist-packages (from hopsworks[python]) (2.1.4)\n",
            "Requirement already satisfied: pyjks in /usr/local/lib/python3.11/dist-packages (from hopsworks[python]) (20.0.0)\n",
            "Requirement already satisfied: mock in /usr/local/lib/python3.11/dist-packages (from hopsworks[python]) (5.2.0)\n",
            "Requirement already satisfied: avro==1.11.3 in /usr/local/lib/python3.11/dist-packages (from hopsworks[python]) (1.11.3)\n",
            "Requirement already satisfied: sqlalchemy in /usr/local/lib/python3.11/dist-packages (from hopsworks[python]) (2.0.29)\n",
            "Requirement already satisfied: PyMySQL[rsa] in /usr/local/lib/python3.11/dist-packages (from hopsworks[python]) (1.1.1)\n",
            "Requirement already satisfied: tzlocal in /usr/local/lib/python3.11/dist-packages (from hopsworks[python]) (5.3.1)\n",
            "Requirement already satisfied: fsspec in /usr/local/lib/python3.11/dist-packages (from hopsworks[python]) (2025.3.2)\n",
            "Requirement already satisfied: retrying in /usr/local/lib/python3.11/dist-packages (from hopsworks[python]) (1.3.4)\n",
            "Requirement already satisfied: hopsworks_aiomysql==0.2.1 in /usr/local/lib/python3.11/dist-packages (from hopsworks_aiomysql[sa]==0.2.1->hopsworks[python]) (0.2.1)\n",
            "Requirement already satisfied: opensearch-py<=2.4.2,>=1.1.0 in /usr/local/lib/python3.11/dist-packages (from hopsworks[python]) (2.4.2)\n",
            "Requirement already satisfied: tqdm in /usr/local/lib/python3.11/dist-packages (from hopsworks[python]) (4.67.1)\n",
            "Requirement already satisfied: grpcio<2.0.0,>=1.49.1 in /usr/local/lib/python3.11/dist-packages (from hopsworks[python]) (1.71.0)\n",
            "Requirement already satisfied: protobuf<5.0.0,>=4.25.4 in /usr/local/lib/python3.11/dist-packages (from hopsworks[python]) (4.25.6)\n",
            "Requirement already satisfied: packaging in /usr/local/lib/python3.11/dist-packages (from hopsworks[python]) (24.2)\n",
            "Requirement already satisfied: numpy<2 in /usr/local/lib/python3.11/dist-packages (from hopsworks[python]) (1.26.4)\n",
            "Requirement already satisfied: pyarrow>=10.0 in /usr/local/lib/python3.11/dist-packages (from hopsworks[python]) (18.1.0)\n",
            "Collecting confluent-kafka<=2.6.1 (from hopsworks[python])\n",
            "  Downloading confluent_kafka-2.6.1-cp311-cp311-manylinux_2_28_x86_64.whl.metadata (51 kB)\n",
            "\u001b[2K     \u001b[90m━━━━━━━━━━━━━━━━━━━━━━━━━━━━━━━━━━━━━━━━\u001b[0m \u001b[32m51.8/51.8 kB\u001b[0m \u001b[31m2.0 MB/s\u001b[0m eta \u001b[36m0:00:00\u001b[0m\n",
            "\u001b[?25hCollecting fastavro<=1.8.4,>=1.4.11 (from hopsworks[python])\n",
            "  Downloading fastavro-1.8.4-cp311-cp311-manylinux_2_17_x86_64.manylinux2014_x86_64.whl.metadata (5.5 kB)\n",
            "Requirement already satisfied: urllib3>=1.26.18 in /usr/local/lib/python3.11/dist-packages (from opensearch-py<=2.4.2,>=1.1.0->hopsworks[python]) (2.3.0)\n",
            "Requirement already satisfied: six in /usr/local/lib/python3.11/dist-packages (from opensearch-py<=2.4.2,>=1.1.0->hopsworks[python]) (1.17.0)\n",
            "Requirement already satisfied: python-dateutil in /usr/local/lib/python3.11/dist-packages (from opensearch-py<=2.4.2,>=1.1.0->hopsworks[python]) (2.8.2)\n",
            "Requirement already satisfied: certifi>=2022.12.07 in /usr/local/lib/python3.11/dist-packages (from opensearch-py<=2.4.2,>=1.1.0->hopsworks[python]) (2025.1.31)\n",
            "Requirement already satisfied: pytz>=2020.1 in /usr/local/lib/python3.11/dist-packages (from pandas<2.2.0->hopsworks[python]) (2025.2)\n",
            "Requirement already satisfied: tzdata>=2022.1 in /usr/local/lib/python3.11/dist-packages (from pandas<2.2.0->hopsworks[python]) (2025.2)\n",
            "Requirement already satisfied: charset-normalizer<4,>=2 in /usr/local/lib/python3.11/dist-packages (from requests->hopsworks[python]) (3.4.1)\n",
            "Requirement already satisfied: idna<4,>=2.5 in /usr/local/lib/python3.11/dist-packages (from requests->hopsworks[python]) (3.10)\n",
            "Requirement already satisfied: typing-extensions>=4.6.0 in /usr/local/lib/python3.11/dist-packages (from sqlalchemy->hopsworks[python]) (4.13.1)\n",
            "Requirement already satisfied: greenlet!=0.4.17 in /usr/local/lib/python3.11/dist-packages (from sqlalchemy->hopsworks[python]) (3.1.1)\n",
            "Requirement already satisfied: botocore<1.38.0,>=1.37.33 in /usr/local/lib/python3.11/dist-packages (from boto3->hopsworks[python]) (1.37.33)\n",
            "Requirement already satisfied: jmespath<2.0.0,>=0.7.1 in /usr/local/lib/python3.11/dist-packages (from boto3->hopsworks[python]) (1.0.1)\n",
            "Requirement already satisfied: s3transfer<0.12.0,>=0.11.0 in /usr/local/lib/python3.11/dist-packages (from boto3->hopsworks[python]) (0.11.4)\n",
            "Requirement already satisfied: orderedmultidict>=1.0.1 in /usr/local/lib/python3.11/dist-packages (from furl->hopsworks[python]) (1.0.1)\n",
            "Requirement already satisfied: javaobj-py3 in /usr/local/lib/python3.11/dist-packages (from pyjks->hopsworks[python]) (0.4.4)\n",
            "Requirement already satisfied: pyasn1>=0.3.5 in /usr/local/lib/python3.11/dist-packages (from pyjks->hopsworks[python]) (0.6.1)\n",
            "Requirement already satisfied: pyasn1-modules in /usr/local/lib/python3.11/dist-packages (from pyjks->hopsworks[python]) (0.4.2)\n",
            "Requirement already satisfied: pycryptodomex in /usr/local/lib/python3.11/dist-packages (from pyjks->hopsworks[python]) (3.22.0)\n",
            "Requirement already satisfied: twofish in /usr/local/lib/python3.11/dist-packages (from pyjks->hopsworks[python]) (0.3.0)\n",
            "Requirement already satisfied: cryptography in /usr/local/lib/python3.11/dist-packages (from PyMySQL[rsa]->hopsworks[python]) (43.0.3)\n",
            "Requirement already satisfied: cffi>=1.12 in /usr/local/lib/python3.11/dist-packages (from cryptography->PyMySQL[rsa]->hopsworks[python]) (1.17.1)\n",
            "Requirement already satisfied: pycparser in /usr/local/lib/python3.11/dist-packages (from cffi>=1.12->cryptography->PyMySQL[rsa]->hopsworks[python]) (2.22)\n",
            "Downloading confluent_kafka-2.6.1-cp311-cp311-manylinux_2_28_x86_64.whl (3.9 MB)\n",
            "\u001b[2K   \u001b[90m━━━━━━━━━━━━━━━━━━━━━━━━━━━━━━━━━━━━━━━━\u001b[0m \u001b[32m3.9/3.9 MB\u001b[0m \u001b[31m36.4 MB/s\u001b[0m eta \u001b[36m0:00:00\u001b[0m\n",
            "\u001b[?25hDownloading fastavro-1.8.4-cp311-cp311-manylinux_2_17_x86_64.manylinux2014_x86_64.whl (3.4 MB)\n",
            "\u001b[2K   \u001b[90m━━━━━━━━━━━━━━━━━━━━━━━━━━━━━━━━━━━━━━━━\u001b[0m \u001b[32m3.4/3.4 MB\u001b[0m \u001b[31m60.2 MB/s\u001b[0m eta \u001b[36m0:00:00\u001b[0m\n",
            "\u001b[?25hInstalling collected packages: fastavro, confluent-kafka\n",
            "Successfully installed confluent-kafka-2.6.1 fastavro-1.8.4\n"
          ]
        }
      ]
    },
    {
      "cell_type": "code",
      "source": [
        "!pip install --upgrade pandas"
      ],
      "metadata": {
        "colab": {
          "base_uri": "https://localhost:8080/"
        },
        "id": "7BCESE_mthTX",
        "outputId": "43ff510a-18d9-461d-e444-5887dfa8fca3",
        "collapsed": true
      },
      "execution_count": null,
      "outputs": [
        {
          "output_type": "stream",
          "name": "stdout",
          "text": [
            "Requirement already satisfied: pandas in /usr/local/lib/python3.11/dist-packages (2.1.4)\n",
            "Collecting pandas\n",
            "  Using cached pandas-2.2.3-cp311-cp311-manylinux_2_17_x86_64.manylinux2014_x86_64.whl.metadata (89 kB)\n",
            "Requirement already satisfied: numpy>=1.23.2 in /usr/local/lib/python3.11/dist-packages (from pandas) (1.26.4)\n",
            "Requirement already satisfied: python-dateutil>=2.8.2 in /usr/local/lib/python3.11/dist-packages (from pandas) (2.8.2)\n",
            "Requirement already satisfied: pytz>=2020.1 in /usr/local/lib/python3.11/dist-packages (from pandas) (2025.2)\n",
            "Requirement already satisfied: tzdata>=2022.7 in /usr/local/lib/python3.11/dist-packages (from pandas) (2025.2)\n",
            "Requirement already satisfied: six>=1.5 in /usr/local/lib/python3.11/dist-packages (from python-dateutil>=2.8.2->pandas) (1.17.0)\n",
            "Using cached pandas-2.2.3-cp311-cp311-manylinux_2_17_x86_64.manylinux2014_x86_64.whl (13.1 MB)\n",
            "Installing collected packages: pandas\n",
            "  Attempting uninstall: pandas\n",
            "    Found existing installation: pandas 2.1.4\n",
            "    Uninstalling pandas-2.1.4:\n",
            "      Successfully uninstalled pandas-2.1.4\n",
            "\u001b[31mERROR: pip's dependency resolver does not currently take into account all the packages that are installed. This behaviour is the source of the following dependency conflicts.\n",
            "hopsworks 4.2.0 requires pandas<2.2.0, but you have pandas 2.2.3 which is incompatible.\n",
            "google-colab 1.0.0 requires pandas==2.2.2, but you have pandas 2.2.3 which is incompatible.\u001b[0m\u001b[31m\n",
            "\u001b[0mSuccessfully installed pandas-2.2.3\n"
          ]
        }
      ]
    },
    {
      "cell_type": "code",
      "source": [
        "pip install shap\n"
      ],
      "metadata": {
        "colab": {
          "base_uri": "https://localhost:8080/"
        },
        "collapsed": true,
        "id": "krgVT-VN7sgW",
        "outputId": "85f674bf-b5e7-4790-8ff3-6228d9ebeb10"
      },
      "execution_count": null,
      "outputs": [
        {
          "output_type": "stream",
          "name": "stdout",
          "text": [
            "Requirement already satisfied: shap in /usr/local/lib/python3.11/dist-packages (0.47.1)\n",
            "Requirement already satisfied: numpy in /usr/local/lib/python3.11/dist-packages (from shap) (1.26.4)\n",
            "Requirement already satisfied: scipy in /usr/local/lib/python3.11/dist-packages (from shap) (1.14.1)\n",
            "Requirement already satisfied: scikit-learn in /usr/local/lib/python3.11/dist-packages (from shap) (1.6.1)\n",
            "Requirement already satisfied: pandas in /usr/local/lib/python3.11/dist-packages (from shap) (2.2.3)\n",
            "Requirement already satisfied: tqdm>=4.27.0 in /usr/local/lib/python3.11/dist-packages (from shap) (4.67.1)\n",
            "Requirement already satisfied: packaging>20.9 in /usr/local/lib/python3.11/dist-packages (from shap) (24.2)\n",
            "Requirement already satisfied: slicer==0.0.8 in /usr/local/lib/python3.11/dist-packages (from shap) (0.0.8)\n",
            "Requirement already satisfied: numba>=0.54 in /usr/local/lib/python3.11/dist-packages (from shap) (0.60.0)\n",
            "Requirement already satisfied: cloudpickle in /usr/local/lib/python3.11/dist-packages (from shap) (3.1.1)\n",
            "Requirement already satisfied: typing-extensions in /usr/local/lib/python3.11/dist-packages (from shap) (4.13.1)\n",
            "Requirement already satisfied: llvmlite<0.44,>=0.43.0dev0 in /usr/local/lib/python3.11/dist-packages (from numba>=0.54->shap) (0.43.0)\n",
            "Requirement already satisfied: python-dateutil>=2.8.2 in /usr/local/lib/python3.11/dist-packages (from pandas->shap) (2.8.2)\n",
            "Requirement already satisfied: pytz>=2020.1 in /usr/local/lib/python3.11/dist-packages (from pandas->shap) (2025.2)\n",
            "Requirement already satisfied: tzdata>=2022.7 in /usr/local/lib/python3.11/dist-packages (from pandas->shap) (2025.2)\n",
            "Requirement already satisfied: joblib>=1.2.0 in /usr/local/lib/python3.11/dist-packages (from scikit-learn->shap) (1.4.2)\n",
            "Requirement already satisfied: threadpoolctl>=3.1.0 in /usr/local/lib/python3.11/dist-packages (from scikit-learn->shap) (3.6.0)\n",
            "Requirement already satisfied: six>=1.5 in /usr/local/lib/python3.11/dist-packages (from python-dateutil>=2.8.2->pandas->shap) (1.17.0)\n"
          ]
        }
      ]
    },
    {
      "cell_type": "code",
      "source": [
        "pip install pytz"
      ],
      "metadata": {
        "colab": {
          "base_uri": "https://localhost:8080/"
        },
        "id": "GS7RaPXhCAwK",
        "outputId": "7249c241-3741-4327-e737-8a4e19cd1078"
      },
      "execution_count": null,
      "outputs": [
        {
          "output_type": "stream",
          "name": "stdout",
          "text": [
            "Requirement already satisfied: pytz in /usr/local/lib/python3.11/dist-packages (2025.2)\n"
          ]
        }
      ]
    },
    {
      "cell_type": "markdown",
      "source": [
        "## Fetching data from OpenWeather API"
      ],
      "metadata": {
        "id": "ydGQwcH073WL"
      }
    },
    {
      "cell_type": "code",
      "source": [
        "import requests\n",
        "import pandas as pd\n",
        "from datetime import datetime, timedelta\n",
        "import time\n",
        "from meteostat import Point, Hourly\n",
        "\n",
        "CITY = \"Lahore\"\n",
        "LAT, LON = 31.5497, 74.3436\n",
        "API_KEY = \"99150b830abb62c066787c5a95ff9ad9\"\n",
        "TOTAL_DAYS = 180\n",
        "CHUNK_SIZE = 5\n",
        "\n",
        "# Step 1: Fetch historical air pollution data\n",
        "end_time = datetime.utcnow()\n",
        "all_pollution_records = []\n",
        "\n",
        "for _ in range(0, TOTAL_DAYS, CHUNK_SIZE):\n",
        "    chunk_end = int(end_time.timestamp())\n",
        "    chunk_start = int((end_time - timedelta(days=CHUNK_SIZE)).timestamp())\n",
        "\n",
        "    print(f\"[Pollution] Fetching from {datetime.utcfromtimestamp(chunk_start)} to {datetime.utcfromtimestamp(chunk_end)}\")\n",
        "\n",
        "    url = (\n",
        "        f\"http://api.openweathermap.org/data/2.5/air_pollution/history\"\n",
        "        f\"?lat={LAT}&lon={LON}&start={chunk_start}&end={chunk_end}&appid={API_KEY}\"\n",
        "    )\n",
        "\n",
        "    response = requests.get(url)\n",
        "    if response.status_code != 200:\n",
        "        print(f\"[Pollution] Failed to fetch data for chunk starting {datetime.utcfromtimestamp(chunk_start)}\")\n",
        "        end_time -= timedelta(days=CHUNK_SIZE)\n",
        "        time.sleep(1)\n",
        "        continue\n",
        "\n",
        "    data = response.json()\n",
        "    for item in data.get(\"list\", []):\n",
        "        components = item[\"components\"]\n",
        "        all_pollution_records.append({\n",
        "            \"timestamp\": datetime.utcfromtimestamp(item[\"dt\"]),\n",
        "            \"pm2_5\": components.get(\"pm2_5\"),\n",
        "            \"pm10\": components.get(\"pm10\"),\n",
        "            \"no2\": components.get(\"no2\"),\n",
        "            \"no\": components.get(\"no\"),\n",
        "            \"so2\": components.get(\"so2\"),\n",
        "            \"o3\": components.get(\"o3\"),\n",
        "            \"co\": components.get(\"co\"),\n",
        "            \"nh3\": components.get(\"nh3\"),\n",
        "            \"aqi\": item[\"main\"][\"aqi\"]\n",
        "        })\n",
        "\n",
        "    end_time -= timedelta(days=CHUNK_SIZE)\n",
        "    time.sleep(1)\n",
        "\n",
        "df_pollution = pd.DataFrame(all_pollution_records)\n",
        "df_pollution['timestamp'] = pd.to_datetime(df_pollution['timestamp'])\n",
        "df_pollution = df_pollution.sort_values(\"timestamp\")\n",
        "\n",
        "# Step 2: Fetch weather data using Meteostat\n",
        "start_date = df_pollution['timestamp'].min()\n",
        "end_date = df_pollution['timestamp'].max()\n",
        "\n",
        "lahore = Point(LAT, LON)\n",
        "print(f\"[Weather] Fetching from {start_date} to {end_date}\")\n",
        "weather_data = Hourly(lahore, start_date, end_date).fetch()\n",
        "\n",
        "if weather_data.empty:\n",
        "    raise ValueError(\"No weather data returned from Meteostat. Try changing the date range or check Meteostat availability.\")\n",
        "\n",
        "# Preprocess weather data\n",
        "weather_data = weather_data.reset_index()\n",
        "weather_data = weather_data.rename(columns={\"time\": \"timestamp\"})\n",
        "\n",
        "# Filter and rename relevant weather features\n",
        "weather_data = weather_data[[\n",
        "    \"timestamp\", \"temp\", \"dwpt\", \"rhum\", \"prcp\", \"wspd\", \"pres\"\n",
        "]].rename(columns={\n",
        "    \"temp\": \"Temp\",\n",
        "    \"dwpt\": \"DewPoint\",\n",
        "    \"rhum\": \"RelHumidity\",\n",
        "    \"prcp\": \"Precip\",\n",
        "    \"wspd\": \"WindSp\",\n",
        "    \"pres\": \"Pres\"\n",
        "})\n",
        "\n",
        "# Step 3: Merge pollution and weather data on timestamp\n",
        "df_pollution = pd.merge_asof(\n",
        "    df_pollution.sort_values(\"timestamp\"),\n",
        "    weather_data.sort_values(\"timestamp\"),\n",
        "    on=\"timestamp\",\n",
        "    direction=\"nearest\",\n",
        "    tolerance=pd.Timedelta(\"1h\")\n",
        ")"
      ],
      "metadata": {
        "colab": {
          "base_uri": "https://localhost:8080/"
        },
        "id": "xN4fHX-bWGmZ",
        "outputId": "56d6c74a-823e-4b56-b9e8-a9e848169e79"
      },
      "execution_count": null,
      "outputs": [
        {
          "output_type": "stream",
          "name": "stdout",
          "text": [
            "[Pollution] Fetching from 2025-04-06 21:49:00 to 2025-04-11 21:49:00\n",
            "[Pollution] Fetching from 2025-04-01 21:49:00 to 2025-04-06 21:49:00\n",
            "[Pollution] Fetching from 2025-03-27 21:49:00 to 2025-04-01 21:49:00\n",
            "[Pollution] Fetching from 2025-03-22 21:49:00 to 2025-03-27 21:49:00\n",
            "[Pollution] Fetching from 2025-03-17 21:49:00 to 2025-03-22 21:49:00\n",
            "[Pollution] Fetching from 2025-03-12 21:49:00 to 2025-03-17 21:49:00\n",
            "[Pollution] Fetching from 2025-03-07 21:49:00 to 2025-03-12 21:49:00\n",
            "[Pollution] Fetching from 2025-03-02 21:49:00 to 2025-03-07 21:49:00\n",
            "[Pollution] Fetching from 2025-02-25 21:49:00 to 2025-03-02 21:49:00\n",
            "[Pollution] Fetching from 2025-02-20 21:49:00 to 2025-02-25 21:49:00\n",
            "[Pollution] Fetching from 2025-02-15 21:49:00 to 2025-02-20 21:49:00\n",
            "[Pollution] Fetching from 2025-02-10 21:49:00 to 2025-02-15 21:49:00\n",
            "[Pollution] Fetching from 2025-02-05 21:49:00 to 2025-02-10 21:49:00\n",
            "[Pollution] Fetching from 2025-01-31 21:49:00 to 2025-02-05 21:49:00\n",
            "[Pollution] Fetching from 2025-01-26 21:49:00 to 2025-01-31 21:49:00\n",
            "[Pollution] Fetching from 2025-01-21 21:49:00 to 2025-01-26 21:49:00\n",
            "[Pollution] Fetching from 2025-01-16 21:49:00 to 2025-01-21 21:49:00\n",
            "[Pollution] Fetching from 2025-01-11 21:49:00 to 2025-01-16 21:49:00\n",
            "[Pollution] Fetching from 2025-01-06 21:49:00 to 2025-01-11 21:49:00\n",
            "[Pollution] Fetching from 2025-01-01 21:49:00 to 2025-01-06 21:49:00\n",
            "[Pollution] Fetching from 2024-12-27 21:49:00 to 2025-01-01 21:49:00\n",
            "[Pollution] Fetching from 2024-12-22 21:49:00 to 2024-12-27 21:49:00\n",
            "[Pollution] Fetching from 2024-12-17 21:49:00 to 2024-12-22 21:49:00\n",
            "[Pollution] Fetching from 2024-12-12 21:49:00 to 2024-12-17 21:49:00\n",
            "[Pollution] Fetching from 2024-12-07 21:49:00 to 2024-12-12 21:49:00\n",
            "[Pollution] Fetching from 2024-12-02 21:49:00 to 2024-12-07 21:49:00\n",
            "[Pollution] Fetching from 2024-11-27 21:49:00 to 2024-12-02 21:49:00\n",
            "[Pollution] Fetching from 2024-11-22 21:49:00 to 2024-11-27 21:49:00\n",
            "[Pollution] Fetching from 2024-11-17 21:49:00 to 2024-11-22 21:49:00\n",
            "[Pollution] Fetching from 2024-11-12 21:49:00 to 2024-11-17 21:49:00\n",
            "[Pollution] Fetching from 2024-11-07 21:49:00 to 2024-11-12 21:49:00\n",
            "[Pollution] Fetching from 2024-11-02 21:49:00 to 2024-11-07 21:49:00\n",
            "[Pollution] Fetching from 2024-10-28 21:49:00 to 2024-11-02 21:49:00\n",
            "[Pollution] Fetching from 2024-10-23 21:49:00 to 2024-10-28 21:49:00\n",
            "[Pollution] Fetching from 2024-10-18 21:49:00 to 2024-10-23 21:49:00\n",
            "[Pollution] Fetching from 2024-10-13 21:49:00 to 2024-10-18 21:49:00\n",
            "[Weather] Fetching from 2024-10-13 22:00:00 to 2025-04-11 21:00:00\n"
          ]
        }
      ]
    },
    {
      "cell_type": "markdown",
      "source": [
        "## General info after fetching"
      ],
      "metadata": {
        "id": "fIyDCy8XjP36"
      }
    },
    {
      "cell_type": "code",
      "source": [
        "# General info\n",
        "print(\"\\nDataframe info:\")\n",
        "df_pollution.info()\n",
        "print(f\"\\nTotal records: {len(df_pollution)}\")"
      ],
      "metadata": {
        "colab": {
          "base_uri": "https://localhost:8080/"
        },
        "id": "0Afrxfm-0cSb",
        "outputId": "0330bcb8-48a4-4467-e83a-99663f9d923e"
      },
      "execution_count": null,
      "outputs": [
        {
          "output_type": "stream",
          "name": "stdout",
          "text": [
            "\n",
            "Dataframe info:\n",
            "<class 'pandas.core.frame.DataFrame'>\n",
            "RangeIndex: 4104 entries, 0 to 4103\n",
            "Data columns (total 16 columns):\n",
            " #   Column       Non-Null Count  Dtype         \n",
            "---  ------       --------------  -----         \n",
            " 0   timestamp    4104 non-null   datetime64[ns]\n",
            " 1   pm2_5        4104 non-null   float64       \n",
            " 2   pm10         4104 non-null   float64       \n",
            " 3   no2          4104 non-null   float64       \n",
            " 4   no           4104 non-null   float64       \n",
            " 5   so2          4104 non-null   float64       \n",
            " 6   o3           4104 non-null   float64       \n",
            " 7   co           4104 non-null   float64       \n",
            " 8   nh3          4104 non-null   float64       \n",
            " 9   aqi          4104 non-null   int64         \n",
            " 10  Temp         4104 non-null   float64       \n",
            " 11  DewPoint     4104 non-null   float64       \n",
            " 12  RelHumidity  4104 non-null   float64       \n",
            " 13  Precip       3877 non-null   float64       \n",
            " 14  WindSp       4104 non-null   float64       \n",
            " 15  Pres         4104 non-null   float64       \n",
            "dtypes: datetime64[ns](1), float64(14), int64(1)\n",
            "memory usage: 513.1 KB\n",
            "\n",
            "Total records: 4104\n"
          ]
        }
      ]
    },
    {
      "cell_type": "code",
      "source": [
        "print(df_pollution.tail())"
      ],
      "metadata": {
        "colab": {
          "base_uri": "https://localhost:8080/"
        },
        "id": "5oVW8H_o8JpV",
        "outputId": "a1379bae-d696-48d5-db8e-7face3882d1f"
      },
      "execution_count": null,
      "outputs": [
        {
          "output_type": "stream",
          "name": "stdout",
          "text": [
            "               timestamp  pm2_5   pm10    no2   no   so2     o3      co  \\\n",
            "4099 2025-04-11 17:00:00  41.46  60.46   9.19  0.0  5.39  85.56  458.47   \n",
            "4100 2025-04-11 18:00:00  42.94  62.89  10.66  0.0  4.87  74.23  521.60   \n",
            "4101 2025-04-11 19:00:00  43.70  63.50  11.36  0.0  4.21  64.23  564.46   \n",
            "4102 2025-04-11 20:00:00  44.93  64.27  11.28  0.0  3.65  56.87  601.40   \n",
            "4103 2025-04-11 21:00:00  47.03  66.05  11.10  0.0  3.20  50.95  639.52   \n",
            "\n",
            "        nh3  aqi  Temp  DewPoint  RelHumidity  Precip  WindSp    Pres  \n",
            "4099  27.64    3  25.7      15.7         54.0     0.0     7.4  1003.3  \n",
            "4100  31.11    3  24.9      15.2         55.0     0.0     7.4  1003.9  \n",
            "4101  33.12    3  24.4      15.6         58.0     0.0     5.5  1003.9  \n",
            "4102  34.56    3  23.8      15.6         60.0     0.0     3.7  1004.0  \n",
            "4103  35.53    3  23.2      15.8         63.0     0.0     3.7  1004.0  \n"
          ]
        }
      ]
    },
    {
      "cell_type": "markdown",
      "source": [
        "## Logging into Hopswork"
      ],
      "metadata": {
        "id": "rgEgitSy8Ak9"
      }
    },
    {
      "cell_type": "code",
      "source": [
        "import hopsworks\n",
        "import os\n",
        "\n",
        "api_key = \"Nlb2ywFqaAR7w07G.j0RReaMnKTpLSSAVhQbzEV9dqSf10BtIc1V2s1An1AUQRcUbk0C5YnNHk1c8Wfip\"\n",
        "project_name = \"AQI_Dua\"\n",
        "\n",
        "os.environ[\"HOPSWORKS_API_KEY\"] = api_key\n"
      ],
      "metadata": {
        "id": "zVt2zzGhBYLn"
      },
      "execution_count": null,
      "outputs": []
    },
    {
      "cell_type": "code",
      "source": [
        "project = hopsworks.login(api_key_value=os.environ[\"HOPSWORKS_API_KEY\"], project=project_name)\n",
        "fs = project.get_feature_store()"
      ],
      "metadata": {
        "colab": {
          "base_uri": "https://localhost:8080/"
        },
        "id": "NQ0d25x4Bul7",
        "outputId": "b33344b6-d5c2-47b6-b3c1-ccfa02949a1d"
      },
      "execution_count": null,
      "outputs": [
        {
          "output_type": "stream",
          "name": "stdout",
          "text": [
            "\n",
            "Logged in to project, explore it here https://c.app.hopsworks.ai:443/p/1221781\n"
          ]
        }
      ]
    },
    {
      "cell_type": "markdown",
      "source": [
        "## Uploading the raw dataset on Feature Store"
      ],
      "metadata": {
        "id": "uaZa-x6i5dU7"
      }
    },
    {
      "cell_type": "code",
      "source": [
        "from hsfs.feature import Feature\n",
        "from hsfs.feature_group import FeatureGroup\n",
        "\n",
        "pollution_fg = fs.create_feature_group(\n",
        "    name=\"lahore_air_quality\",\n",
        "    version=7,\n",
        "    description=\"Historical air pollution data for Lahore from OpenWeather API\",\n",
        "    primary_key=[\"timestamp\"],  # unique identifier\n",
        "    event_time=\"timestamp\",\n",
        "    online_enabled=False\n",
        ")"
      ],
      "metadata": {
        "id": "Bv7s_k9jC2lr"
      },
      "execution_count": null,
      "outputs": []
    },
    {
      "cell_type": "code",
      "source": [
        "# Ensure timestamp is in datetime format (if not already)\n",
        "df_pollution[\"timestamp\"] = pd.to_datetime(df_pollution[\"timestamp\"])\n",
        "\n",
        "# Insert the merged data into the feature group\n",
        "pollution_fg.insert(df_pollution, write_options={\"wait_for_job\": True})\n",
        "\n",
        "print(\"✅ Merged dataset successfully uploaded to Hopsworks.\")"
      ],
      "metadata": {
        "colab": {
          "base_uri": "https://localhost:8080/"
        },
        "id": "onF7rhZDKEtl",
        "outputId": "580a5205-54c6-4fcd-ce9a-1829c1200609"
      },
      "execution_count": null,
      "outputs": [
        {
          "output_type": "stream",
          "name": "stderr",
          "text": [
            "FeatureGroupWarning: The ingested dataframe contains upper case letters in feature names: `['Temp', 'DewPoint', 'RelHumidity', 'Precip', 'WindSp', 'Pres']`. Feature names are sanitized to lower case in the feature store.\n"
          ]
        },
        {
          "output_type": "stream",
          "name": "stdout",
          "text": [
            "Feature Group created successfully, explore it at \n",
            "https://c.app.hopsworks.ai:443/p/1221781/fs/1210435/fg/1435107\n"
          ]
        },
        {
          "output_type": "stream",
          "name": "stderr",
          "text": [
            "Uploading Dataframe: 100.00% |██████████| Rows 4104/4104 | Elapsed Time: 00:00 | Remaining Time: 00:00\n"
          ]
        },
        {
          "output_type": "stream",
          "name": "stdout",
          "text": [
            "Launching job: lahore_air_quality_7_offline_fg_materialization\n",
            "Job started successfully, you can follow the progress at \n",
            "https://c.app.hopsworks.ai:443/p/1221781/jobs/named/lahore_air_quality_7_offline_fg_materialization/executions\n",
            "✅ Merged dataset successfully uploaded to Hopsworks.\n"
          ]
        }
      ]
    },
    {
      "cell_type": "markdown",
      "source": [
        "## Summary statistics after uploading"
      ],
      "metadata": {
        "id": "dcbL-U6X3PwO"
      }
    },
    {
      "cell_type": "code",
      "source": [
        "# Retrieve the feature group\n",
        "fg = fs.get_feature_group(name=\"lahore_air_quality\", version=7)\n",
        "\n",
        "# Now read the data\n",
        "uploaded_df = fg.read()\n",
        "\n",
        "print(uploaded_df.head())\n",
        "print(f\"\\nNumber of records in feature store: {len(uploaded_df)}\")"
      ],
      "metadata": {
        "colab": {
          "base_uri": "https://localhost:8080/"
        },
        "id": "Ls22tFVdEt4A",
        "outputId": "0342ce5d-4320-464f-886a-15869cba0080"
      },
      "execution_count": null,
      "outputs": [
        {
          "output_type": "stream",
          "name": "stdout",
          "text": [
            "Finished: Reading data from Hopsworks, using Hopsworks Feature Query Service (1.58s) \n",
            "                  timestamp   pm2_5    pm10     no2     no    so2     o3  \\\n",
            "0 2024-11-27 12:00:00+00:00  494.93  590.70  326.28  25.93  70.57   7.96   \n",
            "1 2024-10-14 17:00:00+00:00  167.41  236.74   91.85  55.88  19.07   0.00   \n",
            "2 2024-12-04 19:00:00+00:00  118.24  167.16   67.17   0.18  10.01  18.06   \n",
            "3 2024-11-05 11:00:00+00:00  187.97  234.14  108.30   3.58  39.10  80.11   \n",
            "4 2025-01-14 13:00:00+00:00  697.55  811.53  254.99  81.36  58.17   0.05   \n",
            "\n",
            "        co    nh3  aqi  temp  dewpoint  relhumidity  precip  windsp    pres  \n",
            "0  8544.92  61.30    5  23.5      12.2         49.0     0.0     0.0  1013.4  \n",
            "1  4005.43  40.02    5  27.0      18.0         58.0     0.0     0.0  1010.9  \n",
            "2  2243.04  23.81    5  16.0       7.0         55.0     0.0     3.6  1015.3  \n",
            "3  2857.21  34.96    5  28.4      17.3         51.0     0.0     0.0  1012.9  \n",
            "4  9185.79  80.05    5  17.1       7.2         52.0     0.0     0.0  1019.1  \n",
            "\n",
            "Number of records in feature store: 4104\n"
          ]
        }
      ]
    },
    {
      "cell_type": "markdown",
      "source": [
        "\n",
        "## Sorting"
      ],
      "metadata": {
        "id": "rZciTZbmy_Cy"
      }
    },
    {
      "cell_type": "code",
      "source": [
        "import pandas as pd\n",
        "\n",
        "uploaded_df['timestamp'] = pd.to_datetime(uploaded_df['timestamp'])\n",
        "\n",
        "uploaded_df = uploaded_df.sort_values(by='timestamp')\n",
        "uploaded_df = uploaded_df.reset_index(drop=True)"
      ],
      "metadata": {
        "id": "YzqFnQh4wdIB"
      },
      "execution_count": null,
      "outputs": []
    },
    {
      "cell_type": "markdown",
      "source": [
        "## Exploratory Data Analysis"
      ],
      "metadata": {
        "id": "2TySb--rw1Qo"
      }
    },
    {
      "cell_type": "code",
      "source": [
        "print(uploaded_df.head(10))"
      ],
      "metadata": {
        "colab": {
          "base_uri": "https://localhost:8080/"
        },
        "id": "ki6VBUpOwsgZ",
        "outputId": "c7507325-7321-4aca-fc84-b9663e2338e3"
      },
      "execution_count": null,
      "outputs": [
        {
          "output_type": "stream",
          "name": "stdout",
          "text": [
            "                  timestamp   pm2_5    pm10     no2      no    so2      o3  \\\n",
            "0 2024-10-13 22:00:00+00:00  161.22  211.95  100.08    7.71  14.66    0.18   \n",
            "1 2024-10-13 23:00:00+00:00  194.33  249.47  111.04    8.83  15.14    0.03   \n",
            "2 2024-10-14 00:00:00+00:00  251.69  312.30  132.98   12.74  17.88    0.00   \n",
            "3 2024-10-14 01:00:00+00:00  313.72  377.93  152.17   17.43  20.98    0.00   \n",
            "4 2024-10-14 02:00:00+00:00  360.37  430.05  139.83   39.34  21.46    0.46   \n",
            "5 2024-10-14 03:00:00+00:00  408.82  486.99  127.49   86.72  23.13    4.74   \n",
            "6 2024-10-14 04:00:00+00:00  439.67  517.95  141.20  109.08  25.75   13.41   \n",
            "7 2024-10-14 05:00:00+00:00  489.22  570.06  202.89   76.00  28.61   44.35   \n",
            "8 2024-10-14 06:00:00+00:00  568.86  654.24  235.80   30.85  30.99  147.34   \n",
            "9 2024-10-14 07:00:00+00:00  119.68  147.02   38.04    3.07  35.29  220.30   \n",
            "\n",
            "        co    nh3  aqi  temp  dewpoint  relhumidity  precip  windsp    pres  \n",
            "0  3524.78  30.15    5  23.5      17.3         68.0     0.0     0.0  1010.8  \n",
            "1  4112.24  35.46    5  22.9      17.1         70.0     0.0     0.0  1010.9  \n",
            "2  5126.95  50.16    5  23.0      18.3         75.0     0.0     0.0  1011.4  \n",
            "3  6088.26  69.92    5  22.6      17.5         73.0     0.0     0.0  1011.6  \n",
            "4  6835.94  66.88    5  23.0      17.5         71.0     0.0     0.0  1012.1  \n",
            "5  8117.68  56.24    5  23.5      18.8         75.0     0.0     0.0  1012.8  \n",
            "6  8972.17  49.14    5  25.9      18.3         63.0     0.0     0.0  1012.9  \n",
            "7  9506.23  45.60    5  29.0      16.9         48.0     0.0     7.6  1012.9  \n",
            "8  9613.04  40.02    5  30.5      16.1         42.0     0.0     0.0  1013.4  \n",
            "9  1815.80  13.05    5  31.0      14.2         36.0     0.0     3.6  1012.2  \n"
          ]
        }
      ]
    },
    {
      "cell_type": "code",
      "source": [
        "# General info\n",
        "print(\"\\nDataframe info:\")\n",
        "uploaded_df.info()"
      ],
      "metadata": {
        "colab": {
          "base_uri": "https://localhost:8080/"
        },
        "id": "gdcOSc8m5XjH",
        "outputId": "93eef463-1149-46d1-b768-97e1469497b4"
      },
      "execution_count": null,
      "outputs": [
        {
          "output_type": "stream",
          "name": "stdout",
          "text": [
            "\n",
            "Dataframe info:\n",
            "<class 'pandas.core.frame.DataFrame'>\n",
            "RangeIndex: 4104 entries, 0 to 4103\n",
            "Data columns (total 16 columns):\n",
            " #   Column       Non-Null Count  Dtype                  \n",
            "---  ------       --------------  -----                  \n",
            " 0   timestamp    4104 non-null   datetime64[us, Etc/UTC]\n",
            " 1   pm2_5        4104 non-null   float64                \n",
            " 2   pm10         4104 non-null   float64                \n",
            " 3   no2          4104 non-null   float64                \n",
            " 4   no           4104 non-null   float64                \n",
            " 5   so2          4104 non-null   float64                \n",
            " 6   o3           4104 non-null   float64                \n",
            " 7   co           4104 non-null   float64                \n",
            " 8   nh3          4104 non-null   float64                \n",
            " 9   aqi          4104 non-null   int64                  \n",
            " 10  temp         4104 non-null   float64                \n",
            " 11  dewpoint     4104 non-null   float64                \n",
            " 12  relhumidity  4104 non-null   float64                \n",
            " 13  precip       3877 non-null   float64                \n",
            " 14  windsp       4104 non-null   float64                \n",
            " 15  pres         4104 non-null   float64                \n",
            "dtypes: datetime64[us, Etc/UTC](1), float64(14), int64(1)\n",
            "memory usage: 513.1 KB\n"
          ]
        }
      ]
    },
    {
      "cell_type": "markdown",
      "source": [
        "### Missing vals in pm10"
      ],
      "metadata": {
        "id": "DLvv-f8Fj2Yc"
      }
    },
    {
      "cell_type": "code",
      "source": [
        "print(uploaded_df[\"pm10\"].isnull().sum())"
      ],
      "metadata": {
        "colab": {
          "base_uri": "https://localhost:8080/"
        },
        "id": "3C4SvXKJwFtK",
        "outputId": "98f5ff43-c755-472b-998b-204b7af9e52c"
      },
      "execution_count": null,
      "outputs": [
        {
          "output_type": "stream",
          "name": "stdout",
          "text": [
            "0\n"
          ]
        }
      ]
    },
    {
      "cell_type": "markdown",
      "source": [
        "### which feature has null vals?"
      ],
      "metadata": {
        "id": "YL4dWreVxIOe"
      }
    },
    {
      "cell_type": "code",
      "source": [
        "missing_report = uploaded_df.isnull().sum()\n",
        "print(missing_report[missing_report > 0])"
      ],
      "metadata": {
        "colab": {
          "base_uri": "https://localhost:8080/"
        },
        "id": "VZ7fhKWoxB22",
        "outputId": "b68cb459-6fb5-4aba-d805-6b2a87d4788c"
      },
      "execution_count": null,
      "outputs": [
        {
          "output_type": "stream",
          "name": "stdout",
          "text": [
            "precip    227\n",
            "dtype: int64\n"
          ]
        }
      ]
    },
    {
      "cell_type": "markdown",
      "source": [
        "🔹 Option 1: Median Imputation (Recommended)\n",
        "If you believe precip (precipitation) is a useful feature for predicting pm10, keep it and fill the missing values:\n",
        "\n",
        "🔹 Option 2: Drop the column\n",
        "If you're unsure about its value or it's not strongly correlated with pm10, you can just drop it:"
      ],
      "metadata": {
        "id": "gTtvo7DCyeiq"
      }
    },
    {
      "cell_type": "code",
      "source": [
        "print(uploaded_df[['pm10', 'precip']].corr())"
      ],
      "metadata": {
        "colab": {
          "base_uri": "https://localhost:8080/"
        },
        "id": "qgd80O9CxrxX",
        "outputId": "56fc9f43-bd59-4b40-dc1e-6f64caf9b52e"
      },
      "execution_count": null,
      "outputs": [
        {
          "output_type": "stream",
          "name": "stdout",
          "text": [
            "           pm10   precip\n",
            "pm10    1.00000 -0.07514\n",
            "precip -0.07514  1.00000\n"
          ]
        }
      ]
    },
    {
      "cell_type": "code",
      "source": [
        "uploaded_df = uploaded_df.drop(columns=['precip'])"
      ],
      "metadata": {
        "id": "V6jT0IncyAnr"
      },
      "execution_count": null,
      "outputs": []
    },
    {
      "cell_type": "markdown",
      "source": [
        "### Target Distribution (pm10)\n",
        "\n",
        "🔍 Why?\n",
        "\n",
        "Check if pm10 is skewed → apply log transformation if needed.\n",
        "\n",
        "Helps decide on model type (some regressors assume normality).\n",
        "\n",
        "\n",
        "2. Interpretation of Predictions:\n",
        "After applying the log transformation, your model will predict the log-transformed values. If you want to interpret the predictions in the original scale (i.e., the actual values of pm10), you'll need to reverse the transformation.\n",
        "\n",
        "To reverse the log transformation, you can use the exponential function:\n",
        "\n",
        "predicted_pm10 = np.expm1(predicted_pm10_log)  \n"
      ],
      "metadata": {
        "id": "K7-xk-MD3PfU"
      }
    },
    {
      "cell_type": "code",
      "source": [
        "import seaborn as sns\n",
        "import matplotlib.pyplot as plt\n",
        "\n",
        "plt.figure(figsize=(8, 4))\n",
        "sns.histplot(uploaded_df['pm10'], bins=50, kde=True)\n",
        "plt.title('Distribution of PM10')"
      ],
      "metadata": {
        "colab": {
          "base_uri": "https://localhost:8080/",
          "height": 428
        },
        "id": "LLsbuzew3CW6",
        "outputId": "2cbe8f31-4004-4537-a6d3-300a275c1842"
      },
      "execution_count": null,
      "outputs": [
        {
          "output_type": "execute_result",
          "data": {
            "text/plain": [
              "Text(0.5, 1.0, 'Distribution of PM10')"
            ]
          },
          "metadata": {},
          "execution_count": 23
        },
        {
          "output_type": "display_data",
          "data": {
            "text/plain": [
              "<Figure size 800x400 with 1 Axes>"
            ],
            "image/png": "[encoded data removed]"
          },
          "metadata": {}
        }
      ]
    },
    {
      "cell_type": "markdown",
      "source": [
        "### Log Transformation of PM10 (to reduce skewness)"
      ],
      "metadata": {
        "id": "0FymrgTBBx5p"
      }
    },
    {
      "cell_type": "code",
      "source": [
        "import scipy.stats as stats\n",
        "import matplotlib.pyplot as plt\n",
        "import numpy as np\n",
        "\n",
        "# Apply log transformation to pm10\n",
        "uploaded_df['pm10_log'] = np.log1p(uploaded_df['pm10'])  # log(1 + x) to handle zero values as well\n",
        "\n",
        "# Create the subplots\n",
        "fig, ax = plt.subplots(1, 2, figsize=(12, 5))\n",
        "\n",
        "# Original PM10\n",
        "stats.probplot(uploaded_df['pm10'], dist=\"norm\", plot=ax[0])\n",
        "ax[0].set_title(\"Q-Q Plot: PM10\")\n",
        "\n",
        "# Log-transformed PM10\n",
        "stats.probplot(uploaded_df['pm10_log'], dist=\"norm\", plot=ax[1])\n",
        "ax[1].set_title(\"Q-Q Plot: log1p(PM10)\")\n",
        "\n",
        "# Show the plot\n",
        "plt.tight_layout()\n",
        "plt.show()\n"
      ],
      "metadata": {
        "colab": {
          "base_uri": "https://localhost:8080/",
          "height": 472
        },
        "id": "4of03qm74Ehv",
        "outputId": "ff349660-8461-4868-955f-4d7ba8a36062"
      },
      "execution_count": null,
      "outputs": [
        {
          "output_type": "display_data",
          "data": {
            "text/plain": [
              "<Figure size 1200x500 with 2 Axes>"
            ],
            "image/png": "[encoded data removed]"
          },
          "metadata": {}
        }
      ]
    },
    {
      "cell_type": "code",
      "source": [
        "import seaborn as sns\n",
        "import matplotlib.pyplot as plt\n",
        "\n",
        "plt.figure(figsize=(8, 4))\n",
        "sns.histplot(uploaded_df['pm10_log'], bins=50, kde=True)\n",
        "plt.title('Distribution of PM10')"
      ],
      "metadata": {
        "colab": {
          "base_uri": "https://localhost:8080/",
          "height": 428
        },
        "id": "1TDGIGVw7NCu",
        "outputId": "fe8b54aa-2b1b-462d-ed5b-05a11cc5ad39"
      },
      "execution_count": null,
      "outputs": [
        {
          "output_type": "execute_result",
          "data": {
            "text/plain": [
              "Text(0.5, 1.0, 'Distribution of PM10')"
            ]
          },
          "metadata": {},
          "execution_count": 34
        },
        {
          "output_type": "display_data",
          "data": {
            "text/plain": [
              "<Figure size 800x400 with 1 Axes>"
            ],
            "image/png": "[encoded data removed]"
          },
          "metadata": {}
        }
      ]
    },
    {
      "cell_type": "code",
      "source": [
        "# General info\n",
        "print(\"\\nDataframe info:\")\n",
        "uploaded_df.info()"
      ],
      "metadata": {
        "colab": {
          "base_uri": "https://localhost:8080/"
        },
        "id": "Rv0YLO6Y7Fu0",
        "outputId": "94284099-267c-401b-90e5-af53483d0fbe"
      },
      "execution_count": null,
      "outputs": [
        {
          "output_type": "stream",
          "name": "stdout",
          "text": [
            "\n",
            "Dataframe info:\n",
            "<class 'pandas.core.frame.DataFrame'>\n",
            "RangeIndex: 4104 entries, 0 to 4103\n",
            "Data columns (total 20 columns):\n",
            " #   Column       Non-Null Count  Dtype                  \n",
            "---  ------       --------------  -----                  \n",
            " 0   timestamp    4104 non-null   datetime64[us, Etc/UTC]\n",
            " 1   pm2_5        4104 non-null   float64                \n",
            " 2   pm10         4104 non-null   float64                \n",
            " 3   no2          4104 non-null   float64                \n",
            " 4   no           4104 non-null   float64                \n",
            " 5   so2          4104 non-null   float64                \n",
            " 6   o3           4104 non-null   float64                \n",
            " 7   co           4104 non-null   float64                \n",
            " 8   nh3          4104 non-null   float64                \n",
            " 9   aqi          4104 non-null   int64                  \n",
            " 10  temp         4104 non-null   float64                \n",
            " 11  dewpoint     4104 non-null   float64                \n",
            " 12  relhumidity  4104 non-null   float64                \n",
            " 13  windsp       4104 non-null   float64                \n",
            " 14  pres         4104 non-null   float64                \n",
            " 15  hour         4104 non-null   int32                  \n",
            " 16  dayofweek    4104 non-null   int32                  \n",
            " 17  is_weekend   4104 non-null   int64                  \n",
            " 18  month        4104 non-null   int32                  \n",
            " 19  pm10_log     4104 non-null   float64                \n",
            "dtypes: datetime64[us, Etc/UTC](1), float64(14), int32(3), int64(2)\n",
            "memory usage: 593.3 KB\n"
          ]
        }
      ]
    },
    {
      "cell_type": "markdown",
      "source": [
        "### Line plot over time\n",
        "Detects spikes: Sudden increases may indicate pollution events like dust storms, traffic surges, or factory activity."
      ],
      "metadata": {
        "id": "LK3nVrO--3Ft"
      }
    },
    {
      "cell_type": "code",
      "source": [
        "# Resample to daily mean and plot\n",
        "daily_data = uploaded_df.resample('D', on='timestamp').mean()\n",
        "plt.figure(figsize=(12, 6))\n",
        "plt.plot(daily_data.index, daily_data['pm10_log'], label=\"Daily Avg PM10\", color='orange')\n",
        "plt.xlabel(\"Date\")\n",
        "plt.ylabel(\"Average PM10\")\n",
        "plt.title(\"Daily Average PM10 Over Time\")\n",
        "plt.xticks(rotation=45)\n",
        "plt.legend()\n",
        "plt.show()\n"
      ],
      "metadata": {
        "colab": {
          "base_uri": "https://localhost:8080/",
          "height": 601
        },
        "id": "yxXTSBGz_ecX",
        "outputId": "eac0782b-d496-4c7a-e53b-984ff56b9991"
      },
      "execution_count": null,
      "outputs": [
        {
          "output_type": "display_data",
          "data": {
            "text/plain": [
              "<Figure size 1200x600 with 1 Axes>"
            ],
            "image/png": "[encoded data removed]"
          },
          "metadata": {}
        }
      ]
    },
    {
      "cell_type": "markdown",
      "source": [
        "### Correlation Heatmap"
      ],
      "metadata": {
        "id": "TdJzUQN8xEJX"
      }
    },
    {
      "cell_type": "code",
      "source": [
        "# Calculate the correlation matrix\n",
        "correlation = uploaded_df.corr()\n",
        "\n",
        "# Focus only on pm10-log correlations\n",
        "pm10_corr = correlation[[\"pm10_log\"]].sort_values(by=\"pm10_log\", ascending=False)\n",
        "\n",
        "# Plotting the correlations with pm10-log in a heatmap\n",
        "plt.figure(figsize=(6, 8))\n",
        "sns.heatmap(pm10_corr, annot=True, cmap=\"coolwarm\", fmt=\".2f\", linewidths=0.5, cbar=True)\n",
        "plt.title(\"Correlation with pm10_log\", fontsize=14)\n",
        "plt.xticks(rotation=0)\n",
        "plt.tight_layout()\n",
        "plt.show()"
      ],
      "metadata": {
        "colab": {
          "base_uri": "https://localhost:8080/",
          "height": 807
        },
        "id": "xnMHlUKuw502",
        "outputId": "32d5f030-bc61-491c-cdd4-eae2149360da",
        "collapsed": true
      },
      "execution_count": null,
      "outputs": [
        {
          "output_type": "display_data",
          "data": {
            "text/plain": [
              "<Figure size 600x800 with 2 Axes>"
            ],
            "image/png": "[encoded data removed]"
          },
          "metadata": {}
        }
      ]
    },
    {
      "cell_type": "markdown",
      "source": [
        "## Feature Engineering and Pre-Processing"
      ],
      "metadata": {
        "id": "Hicqi7lWxzeQ"
      }
    },
    {
      "cell_type": "markdown",
      "source": [
        "### Timestamp Granularity\n",
        "\n",
        "🔍 Why?\n",
        "Helps us:\n",
        "\n",
        "Analyze temporal patterns (e.g., higher PM at night?)\n",
        "\n",
        "Use time features in ML model (lag effects, time of day, etc.)\n",
        "\n"
      ],
      "metadata": {
        "id": "nP50mEPC2wG_"
      }
    },
    {
      "cell_type": "code",
      "source": [
        "import pandas as pd\n",
        "\n",
        "uploaded_df[\"timestamp\"] = pd.to_datetime(uploaded_df[\"timestamp\"])\n",
        "uploaded_df = uploaded_df.dropna()\n",
        "\n",
        "uploaded_df[\"hour\"] = uploaded_df[\"timestamp\"].dt.hour\n",
        "uploaded_df['month'] = uploaded_df['timestamp'].dt.month\n",
        "uploaded_df[\"dayofweek\"] = uploaded_df[\"timestamp\"].dt.dayofweek\n",
        "uploaded_df[\"is_weekend\"] = uploaded_df[\"dayofweek\"].isin([5, 6]).astype(int)"
      ],
      "metadata": {
        "id": "ahnumUddx277"
      },
      "execution_count": null,
      "outputs": []
    },
    {
      "cell_type": "code",
      "source": [
        "lags = [1, 3, 6, 24]               # in hours\n",
        "windows = [3, 6, 12, 24]           # rolling window (hourly basis)\n",
        "\n",
        "for lag in lags:\n",
        "    uploaded_df[f\"pm10_log_lag{lag}\"] = uploaded_df[\"pm10_log\"].shift(lag)\n",
        "\n",
        "for window in windows:\n",
        "    uploaded_df[f\"pm10_log_rollmean{window}\"] = uploaded_df[\"pm10_log\"].rolling(window=window).mean()\n",
        "\n",
        "# Drop initial rows with NaNs from lag/rolling features\n",
        "df = uploaded_df.dropna().reset_index(drop=True)"
      ],
      "metadata": {
        "id": "UfuNIh_bCB9r"
      },
      "execution_count": null,
      "outputs": []
    },
    {
      "cell_type": "code",
      "source": [
        "# General info\n",
        "print(\"\\nDataframe info:\")\n",
        "uploaded_df.info()"
      ],
      "metadata": {
        "colab": {
          "base_uri": "https://localhost:8080/"
        },
        "id": "EIj0ndiXDHoU",
        "outputId": "2ab79f37-b23f-479e-c6ff-165a54f7f885"
      },
      "execution_count": null,
      "outputs": [
        {
          "output_type": "stream",
          "name": "stdout",
          "text": [
            "\n",
            "Dataframe info:\n",
            "<class 'pandas.core.frame.DataFrame'>\n",
            "RangeIndex: 4104 entries, 0 to 4103\n",
            "Data columns (total 29 columns):\n",
            " #   Column               Non-Null Count  Dtype                  \n",
            "---  ------               --------------  -----                  \n",
            " 0   timestamp            4104 non-null   datetime64[us, Etc/UTC]\n",
            " 1   pm2_5                4104 non-null   float64                \n",
            " 2   pm10                 4104 non-null   float64                \n",
            " 3   no2                  4104 non-null   float64                \n",
            " 4   no                   4104 non-null   float64                \n",
            " 5   so2                  4104 non-null   float64                \n",
            " 6   o3                   4104 non-null   float64                \n",
            " 7   co                   4104 non-null   float64                \n",
            " 8   nh3                  4104 non-null   float64                \n",
            " 9   aqi                  4104 non-null   int64                  \n",
            " 10  temp                 4104 non-null   float64                \n",
            " 11  dewpoint             4104 non-null   float64                \n",
            " 12  relhumidity          4104 non-null   float64                \n",
            " 13  windsp               4104 non-null   float64                \n",
            " 14  pres                 4104 non-null   float64                \n",
            " 15  hour                 4104 non-null   int32                  \n",
            " 16  dayofweek            4104 non-null   int32                  \n",
            " 17  is_weekend           4104 non-null   int64                  \n",
            " 18  month                4104 non-null   int32                  \n",
            " 19  pm10_log             4104 non-null   float64                \n",
            " 20  pm10_rolling7        3937 non-null   float64                \n",
            " 21  pm10_log_lag1        4103 non-null   float64                \n",
            " 22  pm10_log_lag3        4101 non-null   float64                \n",
            " 23  pm10_log_lag6        4098 non-null   float64                \n",
            " 24  pm10_log_lag24       4080 non-null   float64                \n",
            " 25  pm10_log_rollmean3   4102 non-null   float64                \n",
            " 26  pm10_log_rollmean6   4099 non-null   float64                \n",
            " 27  pm10_log_rollmean12  4093 non-null   float64                \n",
            " 28  pm10_log_rollmean24  4081 non-null   float64                \n",
            "dtypes: datetime64[us, Etc/UTC](1), float64(23), int32(3), int64(2)\n",
            "memory usage: 881.8 KB\n"
          ]
        }
      ]
    },
    {
      "cell_type": "markdown",
      "source": [
        "### Feature Selection Based on Correlation with PM10"
      ],
      "metadata": {
        "id": "ndu9K1EPCi8D"
      }
    },
    {
      "cell_type": "code",
      "source": [
        "import seaborn as sns\n",
        "import matplotlib.pyplot as plt\n",
        "\n",
        "# Drop timestamp for correlation calculation\n",
        "corr_df = df.drop(columns=[\"timestamp\", \"pm10\"])  # keep pm10_log\n",
        "\n",
        "# Correlation with target (pm10_log)\n",
        "correlation = corr_df.corr()\n",
        "pm10_corr = correlation[\"pm10_log\"].sort_values(key=abs, ascending=False)\n",
        "\n",
        "# Select features with abs(correlation) > 0.3 (threshold adjustable)\n",
        "selected_features = pm10_corr[pm10_corr.abs() > 0.3].drop(\"pm10_log\").index.tolist()\n",
        "\n",
        "# Display heatmap of selected features\n",
        "plt.figure(figsize=(6, len(selected_features) * 0.5 + 1))\n",
        "sns.heatmap(df[selected_features + [\"pm10_log\"]].corr()[[\"pm10_log\"]], annot=True, cmap=\"coolwarm\", fmt=\".2f\")\n",
        "plt.title(\"Features Correlated with pm10_log\")\n",
        "plt.tight_layout()\n",
        "plt.show()\n",
        "\n",
        "print(\"\\n Selected features based on correlation with pm10_log:\")\n",
        "print(selected_features)\n"
      ],
      "metadata": {
        "colab": {
          "base_uri": "https://localhost:8080/",
          "height": 1000
        },
        "id": "Wc5LsoyOCUVr",
        "outputId": "86a7801b-6997-49c0-84e1-f5a4ef511c72"
      },
      "execution_count": null,
      "outputs": [
        {
          "output_type": "display_data",
          "data": {
            "text/plain": [
              "<Figure size 600x1150 with 2 Axes>"
            ],
            "image/png": "[encoded data removed]"
          },
          "metadata": {}
        },
        {
          "output_type": "stream",
          "name": "stdout",
          "text": [
            "\n",
            " Selected features based on correlation with pm10_log:\n",
            "['pm10_log_rollmean3', 'pm10_log_lag1', 'pm10_log_rollmean6', 'pm2_5', 'pm10_log_rollmean12', 'pm10_log_lag3', 'co', 'pm10_log_rollmean24', 'aqi', 'pm10_log_lag24', 'pm10_log_lag6', 'no2', 'pm10_rolling7', 'no', 'windsp', 'temp', 'pres', 'o3', 'nh3', 'relhumidity', 'so2']\n"
          ]
        }
      ]
    },
    {
      "cell_type": "code",
      "source": [
        "from hsfs.feature_group import FeatureGroup\n",
        "\n",
        "pollution_fg = fs.create_feature_group(\n",
        "    name=\"pm10_pre_processed_dataset\",\n",
        "    version=2,\n",
        "    description=\"Engineered air pollution features for PM10 prediction\",\n",
        "    primary_key=[\"timestamp\"],\n",
        "    event_time=\"timestamp\"\n",
        ")\n"
      ],
      "metadata": {
        "id": "TPwRhuXLJ0GN"
      },
      "execution_count": null,
      "outputs": []
    },
    {
      "cell_type": "code",
      "source": [
        "pollution_fg.insert(uploaded_df)"
      ],
      "metadata": {
        "colab": {
          "base_uri": "https://localhost:8080/"
        },
        "id": "SfnefcpDJ6hY",
        "outputId": "199df77a-c960-4071-9cd8-f75d750c567c"
      },
      "execution_count": null,
      "outputs": [
        {
          "output_type": "stream",
          "name": "stdout",
          "text": [
            "Feature Group created successfully, explore it at \n",
            "https://c.app.hopsworks.ai:443/p/1221781/fs/1210435/fg/1435112\n"
          ]
        },
        {
          "output_type": "stream",
          "name": "stderr",
          "text": [
            "Uploading Dataframe: 100.00% |██████████| Rows 4104/4104 | Elapsed Time: 00:00 | Remaining Time: 00:00\n"
          ]
        },
        {
          "output_type": "stream",
          "name": "stdout",
          "text": [
            "Launching job: pm10_pre_processed_dataset_2_offline_fg_materialization\n",
            "Job started successfully, you can follow the progress at \n",
            "https://c.app.hopsworks.ai:443/p/1221781/jobs/named/pm10_pre_processed_dataset_2_offline_fg_materialization/executions\n"
          ]
        },
        {
          "output_type": "execute_result",
          "data": {
            "text/plain": [
              "(Job('pm10_pre_processed_dataset_2_offline_fg_materialization', 'SPARK'), None)"
            ]
          },
          "metadata": {},
          "execution_count": 64
        }
      ]
    },
    {
      "cell_type": "markdown",
      "source": [
        "## Fetching preprocessed dataset\n"
      ],
      "metadata": {
        "id": "tiPV3GJSUcG8"
      }
    },
    {
      "cell_type": "code",
      "source": [
        "# Retrieve the feature group data\n",
        "fg = fs.get_feature_group(\"pm10_pre_processed_dataset\", version=2)\n",
        "\n",
        "# Now read the data\n",
        "uploaded_df = fg.read()\n",
        "\n",
        "uploaded_df.info()\n",
        "print(f\"\\nNumber of records in feature store: {len(uploaded_df)}\")"
      ],
      "metadata": {
        "colab": {
          "base_uri": "https://localhost:8080/"
        },
        "id": "G9qt2IZmFvKZ",
        "outputId": "ca8e5f88-402f-453f-cdca-ecb60edfb56e"
      },
      "execution_count": null,
      "outputs": [
        {
          "output_type": "stream",
          "name": "stdout",
          "text": [
            "Finished: Reading data from Hopsworks, using Hopsworks Feature Query Service (0.97s) \n",
            "<class 'pandas.core.frame.DataFrame'>\n",
            "RangeIndex: 4104 entries, 0 to 4103\n",
            "Data columns (total 29 columns):\n",
            " #   Column               Non-Null Count  Dtype                  \n",
            "---  ------               --------------  -----                  \n",
            " 0   timestamp            4104 non-null   datetime64[us, Etc/UTC]\n",
            " 1   pm2_5                4104 non-null   float64                \n",
            " 2   pm10                 4104 non-null   float64                \n",
            " 3   no2                  4104 non-null   float64                \n",
            " 4   no                   4104 non-null   float64                \n",
            " 5   so2                  4104 non-null   float64                \n",
            " 6   o3                   4104 non-null   float64                \n",
            " 7   co                   4104 non-null   float64                \n",
            " 8   nh3                  4104 non-null   float64                \n",
            " 9   aqi                  4104 non-null   int64                  \n",
            " 10  temp                 4104 non-null   float64                \n",
            " 11  dewpoint             4104 non-null   float64                \n",
            " 12  relhumidity          4104 non-null   float64                \n",
            " 13  windsp               4104 non-null   float64                \n",
            " 14  pres                 4104 non-null   float64                \n",
            " 15  hour                 4104 non-null   int32                  \n",
            " 16  dayofweek            4104 non-null   int32                  \n",
            " 17  is_weekend           4104 non-null   int64                  \n",
            " 18  month                4104 non-null   int32                  \n",
            " 19  pm10_log             4104 non-null   float64                \n",
            " 20  pm10_rolling7        3937 non-null   float64                \n",
            " 21  pm10_log_lag1        4103 non-null   float64                \n",
            " 22  pm10_log_lag3        4101 non-null   float64                \n",
            " 23  pm10_log_lag6        4098 non-null   float64                \n",
            " 24  pm10_log_lag24       4080 non-null   float64                \n",
            " 25  pm10_log_rollmean3   4102 non-null   float64                \n",
            " 26  pm10_log_rollmean6   4099 non-null   float64                \n",
            " 27  pm10_log_rollmean12  4093 non-null   float64                \n",
            " 28  pm10_log_rollmean24  4081 non-null   float64                \n",
            "dtypes: datetime64[us, Etc/UTC](1), float64(23), int32(3), int64(2)\n",
            "memory usage: 881.8 KB\n",
            "\n",
            "Number of records in feature store: 4104\n"
          ]
        }
      ]
    },
    {
      "cell_type": "code",
      "source": [
        "uploaded_df = uploaded_df.sort_values(by='timestamp')\n",
        "uploaded_df = uploaded_df.reset_index(drop=True)\n",
        "print(uploaded_df.head(10))"
      ],
      "metadata": {
        "colab": {
          "base_uri": "https://localhost:8080/"
        },
        "id": "DzTptJLJvNAg",
        "outputId": "26b385af-2e55-4549-e281-e760b969060b"
      },
      "execution_count": null,
      "outputs": [
        {
          "output_type": "stream",
          "name": "stdout",
          "text": [
            "                  timestamp   pm2_5    pm10     no2      no    so2      o3  \\\n",
            "0 2024-10-13 22:00:00+00:00  161.22  211.95  100.08    7.71  14.66    0.18   \n",
            "1 2024-10-13 23:00:00+00:00  194.33  249.47  111.04    8.83  15.14    0.03   \n",
            "2 2024-10-14 00:00:00+00:00  251.69  312.30  132.98   12.74  17.88    0.00   \n",
            "3 2024-10-14 01:00:00+00:00  313.72  377.93  152.17   17.43  20.98    0.00   \n",
            "4 2024-10-14 02:00:00+00:00  360.37  430.05  139.83   39.34  21.46    0.46   \n",
            "5 2024-10-14 03:00:00+00:00  408.82  486.99  127.49   86.72  23.13    4.74   \n",
            "6 2024-10-14 04:00:00+00:00  439.67  517.95  141.20  109.08  25.75   13.41   \n",
            "7 2024-10-14 05:00:00+00:00  489.22  570.06  202.89   76.00  28.61   44.35   \n",
            "8 2024-10-14 06:00:00+00:00  568.86  654.24  235.80   30.85  30.99  147.34   \n",
            "9 2024-10-14 07:00:00+00:00  119.68  147.02   38.04    3.07  35.29  220.30   \n",
            "\n",
            "        co    nh3  aqi  ...  pm10_log  pm10_rolling7  pm10_log_lag1  \\\n",
            "0  3524.78  30.15    5  ...  5.361057            NaN            NaN   \n",
            "1  4112.24  35.46    5  ...  5.523339            NaN       5.361057   \n",
            "2  5126.95  50.16    5  ...  5.747161            NaN       5.523339   \n",
            "3  6088.26  69.92    5  ...  5.937351            NaN       5.747161   \n",
            "4  6835.94  66.88    5  ...  6.066224            NaN       5.937351   \n",
            "5  8117.68  56.24    5  ...  6.190295            NaN       6.066224   \n",
            "6  8972.17  49.14    5  ...  6.251808            NaN       6.190295   \n",
            "7  9506.23  45.60    5  ...  6.347494            NaN       6.251808   \n",
            "8  9613.04  40.02    5  ...  6.485002            NaN       6.347494   \n",
            "9  1815.80  13.05    5  ...  4.997347            NaN       6.485002   \n",
            "\n",
            "   pm10_log_lag3  pm10_log_lag6  pm10_log_lag24  pm10_log_rollmean3  \\\n",
            "0            NaN            NaN             NaN                 NaN   \n",
            "1            NaN            NaN             NaN                 NaN   \n",
            "2            NaN            NaN             NaN            5.543853   \n",
            "3       5.361057            NaN             NaN            5.735951   \n",
            "4       5.523339            NaN             NaN            5.916912   \n",
            "5       5.747161            NaN             NaN            6.064623   \n",
            "6       5.937351       5.361057             NaN            6.169442   \n",
            "7       6.066224       5.523339             NaN            6.263199   \n",
            "8       6.190295       5.747161             NaN            6.361434   \n",
            "9       6.251808       5.937351             NaN            5.943281   \n",
            "\n",
            "   pm10_log_rollmean6  pm10_log_rollmean12  pm10_log_rollmean24  \n",
            "0                 NaN                  NaN                  NaN  \n",
            "1                 NaN                  NaN                  NaN  \n",
            "2                 NaN                  NaN                  NaN  \n",
            "3                 NaN                  NaN                  NaN  \n",
            "4                 NaN                  NaN                  NaN  \n",
            "5            5.804238                  NaN                  NaN  \n",
            "6            5.952696                  NaN                  NaN  \n",
            "7            6.090056                  NaN                  NaN  \n",
            "8            6.213029                  NaN                  NaN  \n",
            "9            6.056362                  NaN                  NaN  \n",
            "\n",
            "[10 rows x 29 columns]\n"
          ]
        }
      ]
    },
    {
      "cell_type": "markdown",
      "source": [
        "## Handling Missing vals"
      ],
      "metadata": {
        "id": "T-oOfX-GhVCV"
      }
    },
    {
      "cell_type": "code",
      "source": [
        "# Check for missing values after preprocessing\n",
        "print(uploaded_df.isnull().sum())"
      ],
      "metadata": {
        "colab": {
          "base_uri": "https://localhost:8080/"
        },
        "id": "Er1GxMzAWrJQ",
        "outputId": "43cb378d-3e8a-4610-e86c-c753b51b9352"
      },
      "execution_count": null,
      "outputs": [
        {
          "output_type": "stream",
          "name": "stdout",
          "text": [
            "timestamp                0\n",
            "pm2_5                    0\n",
            "pm10                     0\n",
            "no2                      0\n",
            "no                       0\n",
            "so2                      0\n",
            "o3                       0\n",
            "co                       0\n",
            "nh3                      0\n",
            "aqi                      0\n",
            "temp                     0\n",
            "dewpoint                 0\n",
            "relhumidity              0\n",
            "windsp                   0\n",
            "pres                     0\n",
            "hour                     0\n",
            "dayofweek                0\n",
            "is_weekend               0\n",
            "month                    0\n",
            "pm10_log                 0\n",
            "pm10_rolling7          167\n",
            "pm10_log_lag1            1\n",
            "pm10_log_lag3            3\n",
            "pm10_log_lag6            6\n",
            "pm10_log_lag24          24\n",
            "pm10_log_rollmean3       2\n",
            "pm10_log_rollmean6       5\n",
            "pm10_log_rollmean12     11\n",
            "pm10_log_rollmean24     23\n",
            "dtype: int64\n"
          ]
        }
      ]
    },
    {
      "cell_type": "code",
      "source": [
        "clean_df = uploaded_df.dropna().reset_index(drop=True)\n",
        "clean_df = clean_df.sort_values(by='timestamp')"
      ],
      "metadata": {
        "id": "YS71s7c6uX_7"
      },
      "execution_count": null,
      "outputs": []
    },
    {
      "cell_type": "code",
      "source": [
        "# Check for missing values after preprocessing\n",
        "print(clean_df.isnull().sum())"
      ],
      "metadata": {
        "colab": {
          "base_uri": "https://localhost:8080/"
        },
        "id": "TlrMKvTiueME",
        "outputId": "433c096c-349b-46c5-dfad-86602390b38f"
      },
      "execution_count": null,
      "outputs": [
        {
          "output_type": "stream",
          "name": "stdout",
          "text": [
            "timestamp              0\n",
            "pm2_5                  0\n",
            "pm10                   0\n",
            "no2                    0\n",
            "no                     0\n",
            "so2                    0\n",
            "o3                     0\n",
            "co                     0\n",
            "nh3                    0\n",
            "aqi                    0\n",
            "temp                   0\n",
            "dewpoint               0\n",
            "relhumidity            0\n",
            "windsp                 0\n",
            "pres                   0\n",
            "hour                   0\n",
            "dayofweek              0\n",
            "is_weekend             0\n",
            "month                  0\n",
            "pm10_log               0\n",
            "pm10_rolling7          0\n",
            "pm10_log_lag1          0\n",
            "pm10_log_lag3          0\n",
            "pm10_log_lag6          0\n",
            "pm10_log_lag24         0\n",
            "pm10_log_rollmean3     0\n",
            "pm10_log_rollmean6     0\n",
            "pm10_log_rollmean12    0\n",
            "pm10_log_rollmean24    0\n",
            "dtype: int64\n"
          ]
        }
      ]
    },
    {
      "cell_type": "code",
      "source": [
        "print(clean_df.head(10))\n",
        "\n",
        "print(f\"\\nNumber of records in feature store: {len(clean_df)}\")"
      ],
      "metadata": {
        "colab": {
          "base_uri": "https://localhost:8080/"
        },
        "id": "Yn-dV8GVulla",
        "outputId": "6e213310-aeef-49ec-b723-9168f2da98ca"
      },
      "execution_count": null,
      "outputs": [
        {
          "output_type": "stream",
          "name": "stdout",
          "text": [
            "                  timestamp   pm2_5    pm10     no2     no    so2      o3  \\\n",
            "0 2024-10-20 21:00:00+00:00  133.63  188.13   39.41   0.34  11.56   10.37   \n",
            "1 2024-10-20 22:00:00+00:00  124.55  171.24   33.24   0.31   9.78   10.19   \n",
            "2 2024-10-20 23:00:00+00:00  124.22  166.36   31.87   0.73   8.94    5.99   \n",
            "3 2024-10-21 00:00:00+00:00  130.47  169.70   32.56   2.26   8.46    2.15   \n",
            "4 2024-10-21 01:00:00+00:00  139.89  178.06   32.56   6.65   8.58    0.41   \n",
            "5 2024-10-21 02:00:00+00:00  167.65  211.65   37.70  25.03  11.80    0.13   \n",
            "6 2024-10-21 03:00:00+00:00  210.62  263.69   48.67  60.80  15.74    1.72   \n",
            "7 2024-10-21 04:00:00+00:00  231.58  287.33   65.80  70.63  18.12    7.78   \n",
            "8 2024-10-21 05:00:00+00:00  245.06  300.47   93.22  45.60  19.31   30.04   \n",
            "9 2024-10-21 06:00:00+00:00  269.66  322.62  101.45  17.66  20.50  104.43   \n",
            "\n",
            "        co    nh3  aqi  ...  pm10_log  pm10_rolling7  pm10_log_lag1  \\\n",
            "0  1602.17  72.96    5  ...  5.242435       5.427365       5.342239   \n",
            "1  1441.96  63.33    5  ...  5.148889       5.426102       5.242435   \n",
            "2  1455.31  41.54    5  ...  5.120147       5.423702       5.148889   \n",
            "3  1588.82  26.35    5  ...  5.139908       5.420088       5.120147   \n",
            "4  1789.09  19.76    5  ...  5.187721       5.415626       5.139908   \n",
            "5  2536.77  22.29    5  ...  5.359648       5.411420       5.187721   \n",
            "6  3791.81  27.36    5  ...  5.578559       5.407779       5.359648   \n",
            "7  4539.49  32.17    5  ...  5.664106       5.404280       5.578559   \n",
            "8  4592.90  35.97    5  ...  5.708671       5.400478       5.664106   \n",
            "9  4272.46  34.96    5  ...  5.779570       5.396279       5.708671   \n",
            "\n",
            "   pm10_log_lag3  pm10_log_lag6  pm10_log_lag24  pm10_log_rollmean3  \\\n",
            "0       5.509388       5.447900        5.447857            5.334907   \n",
            "1       5.420048       5.521261        5.353610            5.244521   \n",
            "2       5.342239       5.543770        5.329331            5.170490   \n",
            "3       5.242435       5.509388        5.348868            5.136315   \n",
            "4       5.148889       5.420048        5.366396            5.149259   \n",
            "5       5.120147       5.342239        5.448202            5.229092   \n",
            "6       5.139908       5.242435        5.532480            5.375309   \n",
            "7       5.187721       5.148889        5.429784            5.534104   \n",
            "8       5.359648       5.120147        5.417167            5.650445   \n",
            "9       5.578559       5.139908        5.395308            5.717449   \n",
            "\n",
            "   pm10_log_rollmean6  pm10_log_rollmean12  pm10_log_rollmean24  \n",
            "0            5.429857             5.258014             5.217310  \n",
            "1            5.367795             5.305613             5.208780  \n",
            "2            5.297191             5.326396             5.200064  \n",
            "3            5.235611             5.331338             5.191357  \n",
            "4            5.196890             5.329597             5.183912  \n",
            "5            5.199791             5.331946             5.180223  \n",
            "6            5.255812             5.342834             5.182143  \n",
            "7            5.341681             5.354738             5.191906  \n",
            "8            5.439769             5.368480             5.204052  \n",
            "9            5.546379             5.390995             5.220063  \n",
            "\n",
            "[10 rows x 29 columns]\n",
            "\n",
            "Number of records in feature store: 3937\n"
          ]
        }
      ]
    },
    {
      "cell_type": "markdown",
      "source": [
        "## Model Training"
      ],
      "metadata": {
        "id": "rEzP7R6shb2s"
      }
    },
    {
      "cell_type": "markdown",
      "source": [
        "### Targets and features"
      ],
      "metadata": {
        "id": "4cYyNPKW186N"
      }
    },
    {
      "cell_type": "code",
      "source": [
        "# Drop timestamp as it's not a feature\n",
        "clean_df = clean_df.drop(columns=[\"timestamp\"])\n",
        "\n",
        "target = 'pm10_log'\n",
        "\n",
        "features = ['pm10_log_rollmean3', 'pm10_log_lag1', 'pm10_log_rollmean6', 'pm2_5',\n",
        "            'pm10_log_rollmean12', 'pm10_log_lag3', 'co', 'pm10_log_rollmean24',\n",
        "            'aqi', 'pm10_log_lag24', 'pm10_log_lag6', 'no2', 'pm10_rolling7',\n",
        "            'no', 'windsp', 'temp', 'pres', 'o3', 'nh3', 'relhumidity', 'so2']\n",
        "split_ratio = 0.8\n",
        "split_index = int(len(clean_df) * split_ratio)\n",
        "\n",
        "X = clean_df[features]\n",
        "y = clean_df['pm10_log']\n",
        "\n",
        "X_train, X_test = X[:split_index], X[split_index:]\n",
        "y_train, y_test = y[:split_index], y[split_index:]\n"
      ],
      "metadata": {
        "id": "MxCzIdBhPWF_"
      },
      "execution_count": null,
      "outputs": []
    },
    {
      "cell_type": "markdown",
      "source": [
        "### Random Forest Regressor"
      ],
      "metadata": {
        "id": "NgMvFf9oPv9j"
      }
    },
    {
      "cell_type": "code",
      "source": [
        "from sklearn.ensemble import RandomForestRegressor\n",
        "from sklearn.metrics import mean_squared_error, mean_absolute_error, r2_score\n",
        "import matplotlib.pyplot as plt\n",
        "import numpy as np\n",
        "\n",
        "# Train the model\n",
        "rf_model = RandomForestRegressor(n_estimators=100, random_state=42, n_jobs=-1)\n",
        "rf_model.fit(X_train, y_train)\n",
        "\n",
        "# Predict and inverse log transformation\n",
        "y_pred_log = rf_model.predict(X_test)\n",
        "y_pred = np.expm1(y_pred_log)\n",
        "y_actual = np.expm1(y_test)\n",
        "\n",
        "# Evaluation metrics\n",
        "rmse = np.sqrt(mean_squared_error(y_actual, y_pred))\n",
        "mae = mean_absolute_error(y_actual, y_pred)\n",
        "r2 = r2_score(y_actual, y_pred)\n",
        "accuracy = 100 - np.mean(np.abs((y_actual - y_pred) / (y_actual + 1e-6))) * 100  # avoid div by zero\n",
        "\n",
        "# Results\n",
        "print(\"Random Forest Regressor:\")\n",
        "print(f\"  - Mean Squared Error (on actual PM10): {rmse:.2f}\")\n",
        "print(f\"  - Mean Absolute Error: {mae:.2f}\")\n",
        "print(f\"  - R² Score: {r2:.3f}\")\n",
        "print(f\"  - Accuracy ≈ {accuracy:.2f}%\")\n"
      ],
      "metadata": {
        "colab": {
          "base_uri": "https://localhost:8080/"
        },
        "id": "4bg7zDws0qon",
        "outputId": "a177f72d-d1eb-42d9-c955-bb23bfd525ea"
      },
      "execution_count": null,
      "outputs": [
        {
          "output_type": "stream",
          "name": "stdout",
          "text": [
            "Random Forest Regressor:\n",
            "  - Mean Squared Error (on actual PM10): 12.93\n",
            "  - Mean Absolute Error: 9.83\n",
            "  - R² Score: 0.990\n",
            "  - Accuracy ≈ 89.13%\n"
          ]
        }
      ]
    },
    {
      "cell_type": "code",
      "source": [
        "import shap\n",
        "explainer_rf = shap.Explainer(rf_model)\n",
        "\n",
        "# Get SHAP values for test set\n",
        "shap_values_rf = explainer_rf(X_test)\n"
      ],
      "metadata": {
        "id": "ennBL4nGq8a3"
      },
      "execution_count": null,
      "outputs": []
    },
    {
      "cell_type": "code",
      "source": [
        "shap.plots.bar(shap_values_rf)"
      ],
      "metadata": {
        "colab": {
          "base_uri": "https://localhost:8080/",
          "height": 585
        },
        "id": "Den1o4hBsClL",
        "outputId": "76331934-7588-4868-a8c6-b81328bedfe9"
      },
      "execution_count": null,
      "outputs": [
        {
          "output_type": "display_data",
          "data": {
            "text/plain": [
              "<Figure size 800x650 with 1 Axes>"
            ],
            "image/png": "[encoded data removed]"
          },
          "metadata": {}
        }
      ]
    },
    {
      "cell_type": "code",
      "source": [
        "import numpy as np\n",
        "import pandas as pd\n",
        "\n",
        "mean_abs_shap_rf = np.abs(shap_values_rf.values).mean(axis=0)\n",
        "shap_importance_rf = pd.DataFrame({\n",
        "    \"feature\": X_test.columns,\n",
        "    \"importance\": mean_abs_shap_rf\n",
        "}).sort_values(by=\"importance\", ascending=False)\n",
        "\n",
        "print(shap_importance_rf)\n"
      ],
      "metadata": {
        "colab": {
          "base_uri": "https://localhost:8080/"
        },
        "id": "tnP4sr3IsISS",
        "outputId": "d6294200-069a-42d0-9ee9-dd6b4990688e"
      },
      "execution_count": null,
      "outputs": [
        {
          "output_type": "stream",
          "name": "stdout",
          "text": [
            "                feature  importance\n",
            "3                 pm2_5    1.190695\n",
            "6                    co    0.017125\n",
            "18                  nh3    0.008190\n",
            "1         pm10_log_lag1    0.006194\n",
            "0    pm10_log_rollmean3    0.005633\n",
            "15                 temp    0.004790\n",
            "17                   o3    0.004563\n",
            "13                   no    0.004081\n",
            "12        pm10_rolling7    0.004077\n",
            "11                  no2    0.003656\n",
            "8                   aqi    0.003430\n",
            "7   pm10_log_rollmean24    0.002033\n",
            "16                 pres    0.001641\n",
            "10        pm10_log_lag6    0.001599\n",
            "9        pm10_log_lag24    0.001556\n",
            "4   pm10_log_rollmean12    0.001443\n",
            "20                  so2    0.001373\n",
            "19          relhumidity    0.001067\n",
            "2    pm10_log_rollmean6    0.000961\n",
            "5         pm10_log_lag3    0.000730\n",
            "14               windsp    0.000455\n"
          ]
        }
      ]
    },
    {
      "cell_type": "markdown",
      "source": [
        "### XGBoost Regressor"
      ],
      "metadata": {
        "id": "sycQ21PqSs4s"
      }
    },
    {
      "cell_type": "code",
      "source": [
        "from xgboost import XGBRegressor\n",
        "from sklearn.metrics import mean_squared_error, mean_absolute_error, r2_score\n",
        "import numpy as np\n",
        "\n",
        "# Train the model\n",
        "xgb_model = XGBRegressor(n_estimators=100, learning_rate=0.1, random_state=42)\n",
        "xgb_model.fit(X_train, y_train)\n",
        "\n",
        "# Predict in log scale\n",
        "test_preds_log = xgb_model.predict(X_test)\n",
        "\n",
        "# Inverse transform\n",
        "test_preds = np.expm1(test_preds_log)\n",
        "y_test_actual = np.expm1(y_test)\n",
        "\n",
        "# Metrics\n",
        "rmse = np.sqrt(mean_squared_error(y_test_actual, test_preds))\n",
        "mae = mean_absolute_error(y_test_actual, test_preds)\n",
        "r2 = r2_score(y_test_actual, test_preds)\n",
        "accuracy = 100 - np.mean(np.abs((y_test_actual - test_preds) / (y_test_actual + 1e-6))) * 100\n",
        "\n",
        "# Print results\n",
        "print(\"XGBoost:\")\n",
        "print(f\"  - RMSE: {rmse:.2f}\")\n",
        "print(f\"  - MAE: {mae:.2f}\")\n",
        "print(f\"  - R² Score: {r2:.3f}\")\n",
        "print(f\"  - Accuracy ≈ {accuracy:.2f}%\")\n"
      ],
      "metadata": {
        "colab": {
          "base_uri": "https://localhost:8080/"
        },
        "id": "--XV0ZBlSIfg",
        "outputId": "9f9e6153-6584-4b20-f1d2-416890d71f4e"
      },
      "execution_count": null,
      "outputs": [
        {
          "output_type": "stream",
          "name": "stdout",
          "text": [
            "XGBoost:\n",
            "  - RMSE: 11.37\n",
            "  - MAE: 8.79\n",
            "  - R² Score: 0.992\n",
            "  - Accuracy ≈ 90.36%\n"
          ]
        }
      ]
    },
    {
      "cell_type": "code",
      "source": [
        "import shap\n",
        "\n",
        "# Initialize SHAP explainer for tree-based model\n",
        "explainer = shap.Explainer(xgb_model)\n",
        "\n",
        "# Calculate SHAP values\n",
        "shap_values = explainer(X_test)"
      ],
      "metadata": {
        "id": "dedw81V-qQ7R"
      },
      "execution_count": null,
      "outputs": []
    },
    {
      "cell_type": "code",
      "source": [
        "shap.plots.bar(shap_values)"
      ],
      "metadata": {
        "colab": {
          "base_uri": "https://localhost:8080/",
          "height": 585
        },
        "id": "l-hsMd9sqdfr",
        "outputId": "e24002f5-c7da-4ce6-eeae-ec35de6c5e75"
      },
      "execution_count": null,
      "outputs": [
        {
          "output_type": "display_data",
          "data": {
            "text/plain": [
              "<Figure size 800x650 with 1 Axes>"
            ],
            "image/png": "[encoded data removed]"
          },
          "metadata": {}
        }
      ]
    },
    {
      "cell_type": "code",
      "source": [
        "import numpy as np\n",
        "import pandas as pd\n",
        "# Mean absolute SHAP value for each feature\n",
        "mean_abs_shap = np.abs(shap_values.values).mean(axis=0)\n",
        "shap_importance = pd.DataFrame({\n",
        "    \"feature\": X_test.columns,\n",
        "    \"importance\": mean_abs_shap\n",
        "}).sort_values(by=\"importance\", ascending=False)\n",
        "\n",
        "print(shap_importance)"
      ],
      "metadata": {
        "colab": {
          "base_uri": "https://localhost:8080/"
        },
        "id": "ZAyP5nYIqpXT",
        "outputId": "cea2958d-24dc-414b-e43d-e87b42f23d5f"
      },
      "execution_count": null,
      "outputs": [
        {
          "output_type": "stream",
          "name": "stdout",
          "text": [
            "                feature  importance\n",
            "3                 pm2_5    1.111209\n",
            "1         pm10_log_lag1    0.029877\n",
            "6                    co    0.028534\n",
            "0    pm10_log_rollmean3    0.024716\n",
            "12        pm10_rolling7    0.020354\n",
            "18                  nh3    0.015292\n",
            "15                 temp    0.014729\n",
            "17                   o3    0.006159\n",
            "8                   aqi    0.004915\n",
            "16                 pres    0.004369\n",
            "11                  no2    0.004074\n",
            "13                   no    0.003623\n",
            "19          relhumidity    0.002625\n",
            "20                  so2    0.002528\n",
            "7   pm10_log_rollmean24    0.002482\n",
            "5         pm10_log_lag3    0.002057\n",
            "9        pm10_log_lag24    0.001658\n",
            "4   pm10_log_rollmean12    0.001486\n",
            "14               windsp    0.001324\n",
            "10        pm10_log_lag6    0.001263\n",
            "2    pm10_log_rollmean6    0.000747\n"
          ]
        }
      ]
    },
    {
      "cell_type": "markdown",
      "source": [
        "### Ridge Regression"
      ],
      "metadata": {
        "id": "Tn-np0hCFimw"
      }
    },
    {
      "cell_type": "code",
      "source": [
        "from sklearn.linear_model import Ridge\n",
        "from sklearn.preprocessing import StandardScaler\n",
        "from sklearn.metrics import mean_squared_error, mean_absolute_error, r2_score\n",
        "import numpy as np\n",
        "\n",
        "# ----------------------------\n",
        "# 1. Preprocessing\n",
        "# ----------------------------\n",
        "scaler = StandardScaler()\n",
        "X_train_scaled = scaler.fit_transform(X_train)\n",
        "X_test_scaled = scaler.transform(X_test)\n",
        "\n",
        "# ----------------------------\n",
        "# 2. Ridge Regression\n",
        "# ----------------------------\n",
        "ridge = Ridge(alpha=1.0, random_state=42)\n",
        "ridge.fit(X_train_scaled, y_train)  # y_train should be pm10_log\n",
        "\n",
        "# ----------------------------\n",
        "# 3. Predictions\n",
        "# ----------------------------\n",
        "y_pred_log = ridge.predict(X_test_scaled)\n",
        "\n",
        "# Inverse log1p to get back original PM10 values\n",
        "y_pred_pm10 = np.expm1(y_pred_log)\n",
        "y_test_pm10 = np.expm1(y_test)  # y_test is still in log scale\n",
        "\n",
        "# ----------------------------\n",
        "# 4. Evaluation\n",
        "# ----------------------------\n",
        "rmse = np.sqrt(mean_squared_error(y_test_pm10, y_pred_pm10))\n",
        "mae = mean_absolute_error(y_test_pm10, y_pred_pm10)\n",
        "r2 = r2_score(y_test_pm10, y_pred_pm10)\n",
        "\n",
        "# Accuracy based on Mean Absolute Percentage Error (MAPE)\n",
        "accuracy = 100 - np.mean(np.abs((y_test_pm10 - y_pred_pm10) / (y_test_pm10 + 1e-6))) * 100\n",
        "\n",
        "print(\"\\n Ridge Regression (Original PM10 Scale):\")\n",
        "print(f\"  - Mean Squared Error: {rmse:.2f}\")\n",
        "print(f\"  - Mean Absolute Error: {mae:.2f}\")\n",
        "print(f\"  - R²: {r2:.2f}\")\n",
        "print(f\"  - Accuracy ≈ {accuracy:.2f}%\")\n"
      ],
      "metadata": {
        "colab": {
          "base_uri": "https://localhost:8080/"
        },
        "id": "IPUgoBfkFORr",
        "outputId": "386bae83-4f7e-496d-c568-aa54c1f76ba1"
      },
      "execution_count": null,
      "outputs": [
        {
          "output_type": "stream",
          "name": "stdout",
          "text": [
            "\n",
            " Ridge Regression (Original PM10 Scale):\n",
            "  - Mean Squared Error: 19.40\n",
            "  - Mean Absolute Error: 9.59\n",
            "  - R²: 0.98\n",
            "  - Accuracy ≈ 91.44%\n"
          ]
        }
      ]
    },
    {
      "cell_type": "code",
      "source": [
        "import shap\n",
        "import matplotlib.pyplot as plt\n",
        "\n",
        "# SHAP expects raw (non-scaled) data to make interpretation meaningful\n",
        "# So we pass X_train (non-scaled), but also inform SHAP that we used a scaler\n",
        "explainer = shap.Explainer(ridge, X_train_scaled, feature_names=X_train.columns)\n",
        "\n",
        "# Compute SHAP values\n",
        "shap_values = explainer(X_test_scaled)\n",
        "\n",
        "# Summary plot (bar: overall feature importance)\n",
        "shap.plots.bar(shap_values, max_display=10)\n"
      ],
      "metadata": {
        "colab": {
          "base_uri": "https://localhost:8080/",
          "height": 585
        },
        "id": "sSqnvKlKF7Fq",
        "outputId": "08242192-26ab-47fb-e67b-22505787e35d"
      },
      "execution_count": null,
      "outputs": [
        {
          "output_type": "display_data",
          "data": {
            "text/plain": [
              "<Figure size 800x650 with 1 Axes>"
            ],
            "image/png": "[encoded data removed]"
          },
          "metadata": {}
        }
      ]
    },
    {
      "cell_type": "code",
      "source": [
        "import numpy as np\n",
        "import pandas as pd\n",
        "\n",
        "# Compute mean absolute SHAP values for each feature\n",
        "mean_abs_shap = np.abs(shap_values.values).mean(axis=0)\n",
        "\n",
        "# Create a DataFrame for feature importance\n",
        "shap_importance = pd.DataFrame({\n",
        "    \"feature\": X_test.columns,\n",
        "    \"importance\": mean_abs_shap\n",
        "}).sort_values(by=\"importance\", ascending=False)\n",
        "\n",
        "# Display the ranked feature importance\n",
        "print(shap_importance)"
      ],
      "metadata": {
        "colab": {
          "base_uri": "https://localhost:8080/"
        },
        "id": "2ksMIFv7GJrx",
        "outputId": "bc971c26-bbe1-489a-bf79-a8a4d353828c"
      },
      "execution_count": null,
      "outputs": [
        {
          "output_type": "stream",
          "name": "stdout",
          "text": [
            "                feature  importance\n",
            "0    pm10_log_rollmean3    1.851943\n",
            "1         pm10_log_lag1    0.717609\n",
            "5         pm10_log_lag3    0.518042\n",
            "2    pm10_log_rollmean6    0.192215\n",
            "8                   aqi    0.092270\n",
            "3                 pm2_5    0.077377\n",
            "10        pm10_log_lag6    0.033425\n",
            "4   pm10_log_rollmean12    0.018218\n",
            "17                   o3    0.017749\n",
            "16                 pres    0.013101\n",
            "6                    co    0.009896\n",
            "19          relhumidity    0.008804\n",
            "14               windsp    0.007785\n",
            "13                   no    0.006736\n",
            "9        pm10_log_lag24    0.006630\n",
            "12        pm10_rolling7    0.006114\n",
            "20                  so2    0.005453\n",
            "18                  nh3    0.002514\n",
            "7   pm10_log_rollmean24    0.001866\n",
            "11                  no2    0.001509\n",
            "15                 temp    0.000204\n"
          ]
        }
      ]
    },
    {
      "cell_type": "markdown",
      "source": [
        "### LSTM"
      ],
      "metadata": {
        "id": "-OrAmql9kY9U"
      }
    },
    {
      "cell_type": "code",
      "source": [
        "import numpy as np\n",
        "import pandas as pd\n",
        "from sklearn.preprocessing import MinMaxScaler\n",
        "\n",
        "# Normalize the features and target\n",
        "scaler = MinMaxScaler(feature_range=(0, 1))\n",
        "clean_df[features] = scaler.fit_transform(clean_df[features])\n",
        "clean_df[target] = scaler.fit_transform(clean_df[[target]])\n",
        "\n",
        "# Create sequences of length n_input\n",
        "n_input = 24  # Number of previous hours to predict the next hour\n",
        "X, y = [], []\n",
        "\n",
        "for i in range(n_input, len(clean_df)):\n",
        "    X.append(clean_df[features].iloc[i-n_input:i].values)  # Collect the last n_input rows for features\n",
        "    y.append(clean_df[target].iloc[i])  # Target is the next value\n",
        "\n",
        "# Convert to numpy arrays\n",
        "X = np.array(X)\n",
        "y = np.array(y)\n",
        "\n",
        "# Train-test split (80% training, 20% testing)\n",
        "train_size = int(len(X) * 0.8)\n",
        "X_train, X_test = X[:train_size], X[train_size:]\n",
        "y_train, y_test = y[:train_size], y[train_size:]\n",
        "\n",
        "print(f\"Training data shape: {X_train.shape}, Test data shape: {X_test.shape}\")\n"
      ],
      "metadata": {
        "colab": {
          "base_uri": "https://localhost:8080/"
        },
        "id": "20KNGoolR-Za",
        "outputId": "f65516e2-d564-4491-cbd6-638fdd3fe833"
      },
      "execution_count": null,
      "outputs": [
        {
          "output_type": "stream",
          "name": "stdout",
          "text": [
            "Training data shape: (3130, 24, 21), Test data shape: (783, 24, 21)\n"
          ]
        }
      ]
    },
    {
      "cell_type": "code",
      "source": [
        "from tensorflow.keras.models import Sequential\n",
        "from tensorflow.keras.layers import LSTM, Dense, Dropout\n",
        "from tensorflow.keras.optimizers import Adam\n",
        "\n",
        "# Define the LSTM model\n",
        "lstm_model = Sequential()\n",
        "\n",
        "# Add LSTM layer\n",
        "lstm_model.add(LSTM(64, activation='relu', input_shape=(n_input, len(features)), return_sequences=False))\n",
        "\n",
        "# Add Dropout for regularization\n",
        "lstm_model.add(Dropout(0.2))\n",
        "\n",
        "# Output layer to predict pm10_log (1 unit)\n",
        "lstm_model.add(Dense(1))\n",
        "\n",
        "# Compile the model\n",
        "lstm_model.compile(optimizer=Adam(learning_rate=0.001), loss='mean_squared_error')\n",
        "\n",
        "# Summarize the model architecture\n",
        "lstm_model.summary()\n"
      ],
      "metadata": {
        "colab": {
          "base_uri": "https://localhost:8080/",
          "height": 263
        },
        "id": "Ef1ofMnfSxmb",
        "outputId": "cb32b2c0-9862-44b3-92fc-25922828b7da"
      },
      "execution_count": null,
      "outputs": [
        {
          "output_type": "stream",
          "name": "stderr",
          "text": [
            "UserWarning: Do not pass an `input_shape`/`input_dim` argument to a layer. When using Sequential models, prefer using an `Input(shape)` object as the first layer in the model instead.\n"
          ]
        },
        {
          "output_type": "display_data",
          "data": {
            "text/plain": [
              "\u001b[1mModel: \"sequential\"\u001b[0m\n"
            ],
            "text/html": [
              "<pre style=\"white-space:pre;overflow-x:auto;line-height:normal;font-family:Menlo,'DejaVu Sans Mono',consolas,'Courier New',monospace\"><span style=\"font-weight: bold\">Model: \"sequential\"</span>\n",
              "</pre>\n"
            ]
          },
          "metadata": {}
        },
        {
          "output_type": "display_data",
          "data": {
            "text/plain": [
              "┏━━━━━━━━━━━━━━━━━━━━━━━━━━━━━━━━━┳━━━━━━━━━━━━━━━━━━━━━━━━┳━━━━━━━━━━━━━━━┓\n",
              "┃\u001b[1m \u001b[0m\u001b[1mLayer (type)                   \u001b[0m\u001b[1m \u001b[0m┃\u001b[1m \u001b[0m\u001b[1mOutput Shape          \u001b[0m\u001b[1m \u001b[0m┃\u001b[1m \u001b[0m\u001b[1m      Param #\u001b[0m\u001b[1m \u001b[0m┃\n",
              "┡━━━━━━━━━━━━━━━━━━━━━━━━━━━━━━━━━╇━━━━━━━━━━━━━━━━━━━━━━━━╇━━━━━━━━━━━━━━━┩\n",
              "│ lstm (\u001b[38;5;33mLSTM\u001b[0m)                     │ (\u001b[38;5;45mNone\u001b[0m, \u001b[38;5;34m64\u001b[0m)             │        \u001b[38;5;34m22,016\u001b[0m │\n",
              "├─────────────────────────────────┼────────────────────────┼───────────────┤\n",
              "│ dropout (\u001b[38;5;33mDropout\u001b[0m)               │ (\u001b[38;5;45mNone\u001b[0m, \u001b[38;5;34m64\u001b[0m)             │             \u001b[38;5;34m0\u001b[0m │\n",
              "├─────────────────────────────────┼────────────────────────┼───────────────┤\n",
              "│ dense (\u001b[38;5;33mDense\u001b[0m)                   │ (\u001b[38;5;45mNone\u001b[0m, \u001b[38;5;34m1\u001b[0m)              │            \u001b[38;5;34m65\u001b[0m │\n",
              "└─────────────────────────────────┴────────────────────────┴───────────────┘\n"
            ],
            "text/html": [
              "<pre style=\"white-space:pre;overflow-x:auto;line-height:normal;font-family:Menlo,'DejaVu Sans Mono',consolas,'Courier New',monospace\">┏━━━━━━━━━━━━━━━━━━━━━━━━━━━━━━━━━┳━━━━━━━━━━━━━━━━━━━━━━━━┳━━━━━━━━━━━━━━━┓\n",
              "┃<span style=\"font-weight: bold\"> Layer (type)                    </span>┃<span style=\"font-weight: bold\"> Output Shape           </span>┃<span style=\"font-weight: bold\">       Param # </span>┃\n",
              "┡━━━━━━━━━━━━━━━━━━━━━━━━━━━━━━━━━╇━━━━━━━━━━━━━━━━━━━━━━━━╇━━━━━━━━━━━━━━━┩\n",
              "│ lstm (<span style=\"color: #0087ff; text-decoration-color: #0087ff\">LSTM</span>)                     │ (<span style=\"color: #00d7ff; text-decoration-color: #00d7ff\">None</span>, <span style=\"color: #00af00; text-decoration-color: #00af00\">64</span>)             │        <span style=\"color: #00af00; text-decoration-color: #00af00\">22,016</span> │\n",
              "├─────────────────────────────────┼────────────────────────┼───────────────┤\n",
              "│ dropout (<span style=\"color: #0087ff; text-decoration-color: #0087ff\">Dropout</span>)               │ (<span style=\"color: #00d7ff; text-decoration-color: #00d7ff\">None</span>, <span style=\"color: #00af00; text-decoration-color: #00af00\">64</span>)             │             <span style=\"color: #00af00; text-decoration-color: #00af00\">0</span> │\n",
              "├─────────────────────────────────┼────────────────────────┼───────────────┤\n",
              "│ dense (<span style=\"color: #0087ff; text-decoration-color: #0087ff\">Dense</span>)                   │ (<span style=\"color: #00d7ff; text-decoration-color: #00d7ff\">None</span>, <span style=\"color: #00af00; text-decoration-color: #00af00\">1</span>)              │            <span style=\"color: #00af00; text-decoration-color: #00af00\">65</span> │\n",
              "└─────────────────────────────────┴────────────────────────┴───────────────┘\n",
              "</pre>\n"
            ]
          },
          "metadata": {}
        },
        {
          "output_type": "display_data",
          "data": {
            "text/plain": [
              "\u001b[1m Total params: \u001b[0m\u001b[38;5;34m22,081\u001b[0m (86.25 KB)\n"
            ],
            "text/html": [
              "<pre style=\"white-space:pre;overflow-x:auto;line-height:normal;font-family:Menlo,'DejaVu Sans Mono',consolas,'Courier New',monospace\"><span style=\"font-weight: bold\"> Total params: </span><span style=\"color: #00af00; text-decoration-color: #00af00\">22,081</span> (86.25 KB)\n",
              "</pre>\n"
            ]
          },
          "metadata": {}
        },
        {
          "output_type": "display_data",
          "data": {
            "text/plain": [
              "\u001b[1m Trainable params: \u001b[0m\u001b[38;5;34m22,081\u001b[0m (86.25 KB)\n"
            ],
            "text/html": [
              "<pre style=\"white-space:pre;overflow-x:auto;line-height:normal;font-family:Menlo,'DejaVu Sans Mono',consolas,'Courier New',monospace\"><span style=\"font-weight: bold\"> Trainable params: </span><span style=\"color: #00af00; text-decoration-color: #00af00\">22,081</span> (86.25 KB)\n",
              "</pre>\n"
            ]
          },
          "metadata": {}
        },
        {
          "output_type": "display_data",
          "data": {
            "text/plain": [
              "\u001b[1m Non-trainable params: \u001b[0m\u001b[38;5;34m0\u001b[0m (0.00 B)\n"
            ],
            "text/html": [
              "<pre style=\"white-space:pre;overflow-x:auto;line-height:normal;font-family:Menlo,'DejaVu Sans Mono',consolas,'Courier New',monospace\"><span style=\"font-weight: bold\"> Non-trainable params: </span><span style=\"color: #00af00; text-decoration-color: #00af00\">0</span> (0.00 B)\n",
              "</pre>\n"
            ]
          },
          "metadata": {}
        }
      ]
    },
    {
      "cell_type": "code",
      "source": [
        "import numpy as np\n",
        "import matplotlib.pyplot as plt\n",
        "from sklearn.metrics import mean_absolute_error, mean_squared_error, r2_score\n",
        "\n",
        "# Train the model\n",
        "lstm_model.fit(X_train, y_train, epochs=20, batch_size=32, validation_data=(X_test, y_test), verbose=1)\n",
        "\n",
        "# Make predictions with the LSTM model\n",
        "y_pred_log = lstm_model.predict(X_test)\n",
        "\n",
        "# Inverse the log transformation for the predicted and actual values\n",
        "y_pred = np.expm1(y_pred_log)  # Use np.expm1 to reverse the log transformation on predictions\n",
        "y_actual = np.expm1(y_test)    # Apply np.expm1 to the actual values from the test set\n",
        "\n",
        "# Calculate the numerical metrics\n",
        "mae = mean_absolute_error(y_actual, y_pred)\n",
        "mse = mean_squared_error(y_actual, y_pred)\n",
        "rmse = np.sqrt(mse)\n",
        "r2 = r2_score(y_actual, y_pred)\n",
        "\n",
        "# Print the evaluation metrics\n",
        "print(f\"LSTM Model Evaluation:\")\n",
        "print(f\"  - Mean Absolute Error (MAE): {mae:.2f}\")\n",
        "print(f\"  - Mean Squared Error (MSE): {mse:.2f}\")\n",
        "print(f\"  - Root Mean Squared Error (RMSE): {rmse:.2f}\")\n",
        "print(f\"  - R-squared (R2): {r2:.3f}\")"
      ],
      "metadata": {
        "colab": {
          "base_uri": "https://localhost:8080/"
        },
        "id": "42t2EPjtTGHh",
        "outputId": "b04a665b-3c2f-49a0-b4e9-1fdccd5e2689"
      },
      "execution_count": null,
      "outputs": [
        {
          "output_type": "stream",
          "name": "stdout",
          "text": [
            "Epoch 1/20\n",
            "\u001b[1m98/98\u001b[0m \u001b[32m━━━━━━━━━━━━━━━━━━━━\u001b[0m\u001b[37m\u001b[0m \u001b[1m3s\u001b[0m 26ms/step - loss: 0.0011 - val_loss: 0.0035\n",
            "Epoch 2/20\n",
            "\u001b[1m98/98\u001b[0m \u001b[32m━━━━━━━━━━━━━━━━━━━━\u001b[0m\u001b[37m\u001b[0m \u001b[1m3s\u001b[0m 26ms/step - loss: 0.0010 - val_loss: 0.0033\n",
            "Epoch 3/20\n",
            "\u001b[1m98/98\u001b[0m \u001b[32m━━━━━━━━━━━━━━━━━━━━\u001b[0m\u001b[37m\u001b[0m \u001b[1m2s\u001b[0m 20ms/step - loss: 0.0012 - val_loss: 0.0035\n",
            "Epoch 4/20\n",
            "\u001b[1m98/98\u001b[0m \u001b[32m━━━━━━━━━━━━━━━━━━━━\u001b[0m\u001b[37m\u001b[0m \u001b[1m2s\u001b[0m 20ms/step - loss: 0.0010 - val_loss: 0.0036\n",
            "Epoch 5/20\n",
            "\u001b[1m98/98\u001b[0m \u001b[32m━━━━━━━━━━━━━━━━━━━━\u001b[0m\u001b[37m\u001b[0m \u001b[1m1s\u001b[0m 15ms/step - loss: 0.0010 - val_loss: 0.0044\n",
            "Epoch 6/20\n",
            "\u001b[1m98/98\u001b[0m \u001b[32m━━━━━━━━━━━━━━━━━━━━\u001b[0m\u001b[37m\u001b[0m \u001b[1m2s\u001b[0m 15ms/step - loss: 0.0010 - val_loss: 0.0042\n",
            "Epoch 7/20\n",
            "\u001b[1m98/98\u001b[0m \u001b[32m━━━━━━━━━━━━━━━━━━━━\u001b[0m\u001b[37m\u001b[0m \u001b[1m3s\u001b[0m 15ms/step - loss: 9.1941e-04 - val_loss: 0.0036\n",
            "Epoch 8/20\n",
            "\u001b[1m98/98\u001b[0m \u001b[32m━━━━━━━━━━━━━━━━━━━━\u001b[0m\u001b[37m\u001b[0m \u001b[1m3s\u001b[0m 15ms/step - loss: 9.4270e-04 - val_loss: 0.0040\n",
            "Epoch 9/20\n",
            "\u001b[1m98/98\u001b[0m \u001b[32m━━━━━━━━━━━━━━━━━━━━\u001b[0m\u001b[37m\u001b[0m \u001b[1m3s\u001b[0m 21ms/step - loss: 9.6890e-04 - val_loss: 0.0039\n",
            "Epoch 10/20\n",
            "\u001b[1m98/98\u001b[0m \u001b[32m━━━━━━━━━━━━━━━━━━━━\u001b[0m\u001b[37m\u001b[0m \u001b[1m2s\u001b[0m 19ms/step - loss: 0.0010 - val_loss: 0.0034\n",
            "Epoch 11/20\n",
            "\u001b[1m98/98\u001b[0m \u001b[32m━━━━━━━━━━━━━━━━━━━━\u001b[0m\u001b[37m\u001b[0m \u001b[1m2s\u001b[0m 15ms/step - loss: 0.0011 - val_loss: 0.0037\n",
            "Epoch 12/20\n",
            "\u001b[1m98/98\u001b[0m \u001b[32m━━━━━━━━━━━━━━━━━━━━\u001b[0m\u001b[37m\u001b[0m \u001b[1m2s\u001b[0m 15ms/step - loss: 0.0011 - val_loss: 0.0033\n",
            "Epoch 13/20\n",
            "\u001b[1m98/98\u001b[0m \u001b[32m━━━━━━━━━━━━━━━━━━━━\u001b[0m\u001b[37m\u001b[0m \u001b[1m2s\u001b[0m 15ms/step - loss: 0.0010 - val_loss: 0.0047\n",
            "Epoch 14/20\n",
            "\u001b[1m98/98\u001b[0m \u001b[32m━━━━━━━━━━━━━━━━━━━━\u001b[0m\u001b[37m\u001b[0m \u001b[1m2s\u001b[0m 15ms/step - loss: 0.0010 - val_loss: 0.0042\n",
            "Epoch 15/20\n",
            "\u001b[1m98/98\u001b[0m \u001b[32m━━━━━━━━━━━━━━━━━━━━\u001b[0m\u001b[37m\u001b[0m \u001b[1m2s\u001b[0m 15ms/step - loss: 9.9984e-04 - val_loss: 0.0038\n",
            "Epoch 16/20\n",
            "\u001b[1m98/98\u001b[0m \u001b[32m━━━━━━━━━━━━━━━━━━━━\u001b[0m\u001b[37m\u001b[0m \u001b[1m1s\u001b[0m 15ms/step - loss: 9.6369e-04 - val_loss: 0.0042\n",
            "Epoch 17/20\n",
            "\u001b[1m98/98\u001b[0m \u001b[32m━━━━━━━━━━━━━━━━━━━━\u001b[0m\u001b[37m\u001b[0m \u001b[1m2s\u001b[0m 22ms/step - loss: 0.0011 - val_loss: 0.0050\n",
            "Epoch 18/20\n",
            "\u001b[1m98/98\u001b[0m \u001b[32m━━━━━━━━━━━━━━━━━━━━\u001b[0m\u001b[37m\u001b[0m \u001b[1m2s\u001b[0m 18ms/step - loss: 0.0011 - val_loss: 0.0037\n",
            "Epoch 19/20\n",
            "\u001b[1m98/98\u001b[0m \u001b[32m━━━━━━━━━━━━━━━━━━━━\u001b[0m\u001b[37m\u001b[0m \u001b[1m2s\u001b[0m 15ms/step - loss: 9.7059e-04 - val_loss: 0.0037\n",
            "Epoch 20/20\n",
            "\u001b[1m98/98\u001b[0m \u001b[32m━━━━━━━━━━━━━━━━━━━━\u001b[0m\u001b[37m\u001b[0m \u001b[1m2s\u001b[0m 15ms/step - loss: 9.6407e-04 - val_loss: 0.0039\n",
            "\u001b[1m25/25\u001b[0m \u001b[32m━━━━━━━━━━━━━━━━━━━━\u001b[0m\u001b[37m\u001b[0m \u001b[1m0s\u001b[0m 5ms/step\n",
            "LSTM Model Evaluation:\n",
            "  - Mean Absolute Error (MAE): 0.07\n",
            "  - Mean Squared Error (MSE): 0.01\n",
            "  - Root Mean Squared Error (RMSE): 0.09\n",
            "  - R-squared (R2): 0.895\n"
          ]
        }
      ]
    },
    {
      "cell_type": "markdown",
      "source": [
        "## Model Registry"
      ],
      "metadata": {
        "id": "Gg4LT1Iaiy6l"
      }
    },
    {
      "cell_type": "code",
      "source": [
        "import joblib\n",
        "import hsml\n",
        "\n",
        "# Save the trained Ridge model locally\n",
        "joblib.dump(ridge, 'ridge_model.pkl')\n",
        "\n",
        "# Connect to Hopsworks Model Registry\n",
        "project = hopsworks.login()\n",
        "model_registry = project.get_model_registry()\n",
        "\n",
        "# Create a new model entry in the registry\n",
        "ridge_model = model_registry.python.create_model(\n",
        "    name=\"pm10_ridge_model\",\n",
        "    metrics={\"rmse\": rmse, \"mae\": mae, \"r2\": r2},\n",
        "    description=\"Ridge regression model for PM10 prediction using weather features\"\n",
        ")\n",
        "\n",
        "# Upload the model file to the registry\n",
        "ridge_model.save(\"ridge_model.pkl\")\n"
      ],
      "metadata": {
        "colab": {
          "base_uri": "https://localhost:8080/",
          "height": 190,
          "referenced_widgets": [
            "84f7556ba9ab44d5b4407a881f19e080",
            "8845fbbd057a4ea59bd0ea22531808ac",
            "15308b83e3b6477c866280511d67d06a",
            "2492dac6fde0452b9d387a494e5dcc58",
            "63c6da9444f349328ab993f5b4eea142",
            "8ba7429ba46a49648841c5372b57104c",
            "f89cda3db5044a13b6cbdfa3e19b8917",
            "0258d9b0edfb4547890eaf254e36db32",
            "e5eebc3d0a2a4ba1ba639f418afa69e7",
            "dba7be0154f64ebb8c935f9973fd56d4",
            "4c63f7bf62b2401b8eeec3b756b9fe24",
            "b473576a0a1244c99c9f734f8ea06c04",
            "1dde3bbfd8144cfab6f62d51e1638c93",
            "6a021bfa28594f409122307d1bf9ab94",
            "0acc9fcd979e471db2513787bf484fc2",
            "cef1a927dc664ead8a6eeaae340b9704",
            "94d311bd6d0f42829fdcf8944489f704",
            "c9562f1c705b476ea5ef095171a001b1",
            "b45c928871304d55ada056bc0d7ff8b3",
            "5e9ec3d3a76a4ad69117409af4cf95a6",
            "be2a82fcfeae41da96001cc92df08ecb",
            "806dca41ead64dc2b017dcead56a44fd"
          ]
        },
        "id": "dVTnTQk7XWSb",
        "outputId": "b98ebe77-9108-404a-9904-c7a6bf6fed51"
      },
      "execution_count": null,
      "outputs": [
        {
          "output_type": "stream",
          "name": "stdout",
          "text": [
            "Connection closed.\n",
            "\n",
            "Logged in to project, explore it here https://c.app.hopsworks.ai:443/p/1221781\n"
          ]
        },
        {
          "output_type": "stream",
          "name": "stderr",
          "text": [
            "ProvenanceWarning: Model schema cannot not be inferred without both the feature view and the training dataset version.\n"
          ]
        },
        {
          "output_type": "display_data",
          "data": {
            "text/plain": [
              "  0%|          | 0/6 [00:00<?, ?it/s]"
            ],
            "application/vnd.jupyter.widget-view+json": {
              "version_major": 2,
              "version_minor": 0,
              "model_id": "84f7556ba9ab44d5b4407a881f19e080"
            }
          },
          "metadata": {}
        },
        {
          "output_type": "display_data",
          "data": {
            "text/plain": [
              "Uploading /content/ridge_model.pkl: 0.000%|          | 0/720 elapsed<00:00 remaining<?"
            ],
            "application/vnd.jupyter.widget-view+json": {
              "version_major": 2,
              "version_minor": 0,
              "model_id": "b473576a0a1244c99c9f734f8ea06c04"
            }
          },
          "metadata": {}
        },
        {
          "output_type": "stream",
          "name": "stdout",
          "text": [
            "Model created, explore it at https://c.app.hopsworks.ai:443/p/1221781/models/pm10_ridge_model/1\n"
          ]
        },
        {
          "output_type": "execute_result",
          "data": {
            "text/plain": [
              "Model(name: 'pm10_ridge_model', version: 1)"
            ]
          },
          "metadata": {},
          "execution_count": 11
        }
      ]
    },
    {
      "cell_type": "code",
      "source": [],
      "metadata": {
        "id": "jDndhB9hczWU"
      },
      "execution_count": null,
      "outputs": []
    }
  ]
}